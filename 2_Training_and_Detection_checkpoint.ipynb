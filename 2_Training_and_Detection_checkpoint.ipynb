{
  "nbformat": 4,
  "nbformat_minor": 0,
  "metadata": {
    "accelerator": "GPU",
    "colab": {
      "name": "2. Training and Detection-checkpoint.ipynb",
      "provenance": []
    },
    "kernelspec": {
      "display_name": "tfod",
      "language": "python",
      "name": "tfod"
    },
    "language_info": {
      "codemirror_mode": {
        "name": "ipython",
        "version": 3
      },
      "file_extension": ".py",
      "mimetype": "text/x-python",
      "name": "python",
      "nbconvert_exporter": "python",
      "pygments_lexer": "ipython3",
      "version": "3.7.3"
    }
  },
  "cells": [
    {
      "cell_type": "markdown",
      "metadata": {
        "id": "QUANWN3rpfC9"
      },
      "source": [
        "# 0. Setup Paths"
      ]
    },
    {
      "cell_type": "code",
      "metadata": {
        "id": "146BB11JpfDA"
      },
      "source": [
        "import os"
      ],
      "execution_count": 1,
      "outputs": []
    },
    {
      "cell_type": "code",
      "metadata": {
        "id": "42hJEdo_pfDB"
      },
      "source": [
        "CUSTOM_MODEL_NAME = 'my_ssd_mobnet' \n",
        "PRETRAINED_MODEL_NAME = 'ssd_mobilenet_v2_fpnlite_320x320_coco17_tpu-8'\n",
        "PRETRAINED_MODEL_URL = 'http://download.tensorflow.org/models/object_detection/tf2/20200711/ssd_mobilenet_v2_fpnlite_320x320_coco17_tpu-8.tar.gz'\n",
        "TF_RECORD_SCRIPT_NAME = 'generate_tfrecord.py'\n",
        "LABEL_MAP_NAME = 'label_map.pbtxt'"
      ],
      "execution_count": 3,
      "outputs": []
    },
    {
      "cell_type": "code",
      "metadata": {
        "id": "hbPhYVy_pfDB"
      },
      "source": [
        "paths = {\n",
        "    'WORKSPACE_PATH': os.path.join('Tensorflow', 'workspace'),\n",
        "    'SCRIPTS_PATH': os.path.join('Tensorflow','scripts'),\n",
        "    'APIMODEL_PATH': os.path.join('Tensorflow','models'),\n",
        "    'ANNOTATION_PATH': os.path.join('Tensorflow', 'workspace','annotations'),\n",
        "    'IMAGE_PATH': os.path.join('Tensorflow', 'workspace','images'),\n",
        "    'MODEL_PATH': os.path.join('Tensorflow', 'workspace','models'),\n",
        "    'PRETRAINED_MODEL_PATH': os.path.join('Tensorflow', 'workspace','pre-trained-models'),\n",
        "    'CHECKPOINT_PATH': os.path.join('Tensorflow', 'workspace','models',CUSTOM_MODEL_NAME), \n",
        "    'OUTPUT_PATH': os.path.join('Tensorflow', 'workspace','models',CUSTOM_MODEL_NAME, 'export'), \n",
        "    'TFJS_PATH':os.path.join('Tensorflow', 'workspace','models',CUSTOM_MODEL_NAME, 'tfjsexport'), \n",
        "    'TFLITE_PATH':os.path.join('Tensorflow', 'workspace','models',CUSTOM_MODEL_NAME, 'tfliteexport'), \n",
        "    'PROTOC_PATH':os.path.join('Tensorflow','protoc')\n",
        " }"
      ],
      "execution_count": 4,
      "outputs": []
    },
    {
      "cell_type": "code",
      "metadata": {
        "id": "LwhWZMI0pfDC"
      },
      "source": [
        "files = {\n",
        "    'PIPELINE_CONFIG':os.path.join('Tensorflow', 'workspace','models', CUSTOM_MODEL_NAME, 'pipeline.config'),\n",
        "    'TF_RECORD_SCRIPT': os.path.join(paths['SCRIPTS_PATH'], TF_RECORD_SCRIPT_NAME), \n",
        "    'LABELMAP': os.path.join(paths['ANNOTATION_PATH'], LABEL_MAP_NAME)\n",
        "}"
      ],
      "execution_count": 5,
      "outputs": []
    },
    {
      "cell_type": "code",
      "metadata": {
        "id": "HR-TfDGrpfDC"
      },
      "source": [
        "for path in paths.values():\n",
        "    if not os.path.exists(path):\n",
        "        if os.name == 'posix':\n",
        "            !mkdir -p {path}\n",
        "        if os.name == 'nt':\n",
        "            !mkdir {path}"
      ],
      "execution_count": 6,
      "outputs": []
    },
    {
      "cell_type": "markdown",
      "metadata": {
        "id": "OLU-rs_ipfDE"
      },
      "source": [
        "# 1. Download TF Models Pretrained Models from Tensorflow Model Zoo and Install TFOD"
      ]
    },
    {
      "cell_type": "code",
      "metadata": {
        "id": "Zlpq-LdlEwrC"
      },
      "source": [
        "# https://www.tensorflow.org/install/source_windows"
      ],
      "execution_count": null,
      "outputs": []
    },
    {
      "cell_type": "code",
      "metadata": {
        "id": "K-Cmz2edpfDE",
        "scrolled": true
      },
      "source": [
        "if os.name=='nt':\n",
        "    !pip install wget\n",
        "    import wget"
      ],
      "execution_count": 7,
      "outputs": []
    },
    {
      "cell_type": "code",
      "metadata": {
        "id": "iA1DIq5OpfDE",
        "colab": {
          "base_uri": "https://localhost:8080/"
        },
        "outputId": "2ca9877b-cd45-448c-e8c5-07bcbf7ec823"
      },
      "source": [
        "if not os.path.exists(os.path.join(paths['APIMODEL_PATH'], 'research', 'object_detection')):\n",
        "    !git clone https://github.com/tensorflow/models {paths['APIMODEL_PATH']}"
      ],
      "execution_count": 8,
      "outputs": [
        {
          "output_type": "stream",
          "text": [
            "Cloning into 'Tensorflow/models'...\n",
            "remote: Enumerating objects: 58305, done.\u001b[K\n",
            "remote: Total 58305 (delta 0), reused 0 (delta 0), pack-reused 58305\u001b[K\n",
            "Receiving objects: 100% (58305/58305), 573.15 MiB | 38.14 MiB/s, done.\n",
            "Resolving deltas: 100% (40520/40520), done.\n"
          ],
          "name": "stdout"
        }
      ]
    },
    {
      "cell_type": "code",
      "metadata": {
        "id": "rJjMHbnDs3Tv",
        "colab": {
          "base_uri": "https://localhost:8080/"
        },
        "outputId": "eb78ae8f-cc70-4df8-819e-9db3a73d3e74"
      },
      "source": [
        "# Install Tensorflow Object Detection \n",
        "if os.name=='posix':  \n",
        "    !apt-get install protobuf-compiler\n",
        "    !cd Tensorflow/models/research && protoc object_detection/protos/*.proto --python_out=. && cp object_detection/packages/tf2/setup.py . && python -m pip install . \n",
        "    \n",
        "if os.name=='nt':\n",
        "    url=\"https://github.com/protocolbuffers/protobuf/releases/download/v3.15.6/protoc-3.15.6-win64.zip\"\n",
        "    wget.download(url)\n",
        "    !move protoc-3.15.6-win64.zip {paths['PROTOC_PATH']}\n",
        "    !cd {paths['PROTOC_PATH']} && tar -xf protoc-3.15.6-win64.zip\n",
        "    os.environ['PATH'] += os.pathsep + os.path.abspath(os.path.join(paths['PROTOC_PATH'], 'bin'))   \n",
        "    !cd Tensorflow/models/research && protoc object_detection/protos/*.proto --python_out=. && copy object_detection\\\\packages\\\\tf2\\\\setup.py setup.py && python setup.py build && python setup.py install\n",
        "    !cd Tensorflow/models/research/slim && pip install -e . "
      ],
      "execution_count": 9,
      "outputs": [
        {
          "output_type": "stream",
          "text": [
            "Reading package lists... Done\n",
            "Building dependency tree       \n",
            "Reading state information... Done\n",
            "protobuf-compiler is already the newest version (3.0.0-9.1ubuntu1).\n",
            "0 upgraded, 0 newly installed, 0 to remove and 39 not upgraded.\n",
            "Processing /content/Tensorflow/models/research\n",
            "Collecting avro-python3\n",
            "  Downloading https://files.pythonhosted.org/packages/cc/97/7a6970380ca8db9139a3cc0b0e3e0dd3e4bc584fb3644e1d06e71e1a55f0/avro-python3-1.10.2.tar.gz\n",
            "Collecting apache-beam\n",
            "\u001b[?25l  Downloading https://files.pythonhosted.org/packages/ac/c9/395a9759dfbf9e87203a69c33b2e94f10d566d9391bddb6f99facafe64c3/apache_beam-2.30.0-cp37-cp37m-manylinux2010_x86_64.whl (9.6MB)\n",
            "\u001b[K     |████████████████████████████████| 9.6MB 27.9MB/s \n",
            "\u001b[?25hRequirement already satisfied: pillow in /usr/local/lib/python3.7/dist-packages (from object-detection==0.1) (7.1.2)\n",
            "Requirement already satisfied: lxml in /usr/local/lib/python3.7/dist-packages (from object-detection==0.1) (4.2.6)\n",
            "Requirement already satisfied: matplotlib in /usr/local/lib/python3.7/dist-packages (from object-detection==0.1) (3.2.2)\n",
            "Requirement already satisfied: Cython in /usr/local/lib/python3.7/dist-packages (from object-detection==0.1) (0.29.23)\n",
            "Requirement already satisfied: contextlib2 in /usr/local/lib/python3.7/dist-packages (from object-detection==0.1) (0.5.5)\n",
            "Collecting tf-slim\n",
            "\u001b[?25l  Downloading https://files.pythonhosted.org/packages/02/97/b0f4a64df018ca018cc035d44f2ef08f91e2e8aa67271f6f19633a015ff7/tf_slim-1.1.0-py2.py3-none-any.whl (352kB)\n",
            "\u001b[K     |████████████████████████████████| 358kB 48.7MB/s \n",
            "\u001b[?25hRequirement already satisfied: six in /usr/local/lib/python3.7/dist-packages (from object-detection==0.1) (1.15.0)\n",
            "Requirement already satisfied: pycocotools in /usr/local/lib/python3.7/dist-packages (from object-detection==0.1) (2.0.2)\n",
            "Collecting lvis\n",
            "  Downloading https://files.pythonhosted.org/packages/72/b6/1992240ab48310b5360bfdd1d53163f43bb97d90dc5dc723c67d41c38e78/lvis-0.5.3-py3-none-any.whl\n",
            "Requirement already satisfied: scipy in /usr/local/lib/python3.7/dist-packages (from object-detection==0.1) (1.4.1)\n",
            "Requirement already satisfied: pandas in /usr/local/lib/python3.7/dist-packages (from object-detection==0.1) (1.1.5)\n",
            "Collecting tf-models-official\n",
            "\u001b[?25l  Downloading https://files.pythonhosted.org/packages/96/08/81bbc275e8e9c6d1e03dd26daec3a67f45e6322804cbce3d51f93eae1961/tf_models_official-2.5.0-py2.py3-none-any.whl (1.6MB)\n",
            "\u001b[K     |████████████████████████████████| 1.6MB 49.0MB/s \n",
            "\u001b[?25hRequirement already satisfied: pymongo<4.0.0,>=3.8.0 in /usr/local/lib/python3.7/dist-packages (from apache-beam->object-detection==0.1) (3.11.4)\n",
            "Requirement already satisfied: pytz>=2018.3 in /usr/local/lib/python3.7/dist-packages (from apache-beam->object-detection==0.1) (2018.9)\n",
            "Requirement already satisfied: pydot<2,>=1.2.0 in /usr/local/lib/python3.7/dist-packages (from apache-beam->object-detection==0.1) (1.3.0)\n",
            "Requirement already satisfied: numpy<1.21.0,>=1.14.3 in /usr/local/lib/python3.7/dist-packages (from apache-beam->object-detection==0.1) (1.19.5)\n",
            "Requirement already satisfied: pyarrow<4.0.0,>=0.15.1 in /usr/local/lib/python3.7/dist-packages (from apache-beam->object-detection==0.1) (3.0.0)\n",
            "Collecting requests<3.0.0,>=2.24.0\n",
            "\u001b[?25l  Downloading https://files.pythonhosted.org/packages/29/c1/24814557f1d22c56d50280771a17307e6bf87b70727d975fd6b2ce6b014a/requests-2.25.1-py2.py3-none-any.whl (61kB)\n",
            "\u001b[K     |████████████████████████████████| 61kB 9.1MB/s \n",
            "\u001b[?25hRequirement already satisfied: oauth2client<5,>=2.0.1 in /usr/local/lib/python3.7/dist-packages (from apache-beam->object-detection==0.1) (4.1.3)\n",
            "Collecting hdfs<3.0.0,>=2.1.0\n",
            "  Downloading https://files.pythonhosted.org/packages/08/f7/4c3fad73123a24d7394b6f40d1ec9c1cbf2e921cfea1797216ffd0a51fb1/hdfs-2.6.0-py3-none-any.whl\n",
            "Requirement already satisfied: python-dateutil<3,>=2.8.0 in /usr/local/lib/python3.7/dist-packages (from apache-beam->object-detection==0.1) (2.8.1)\n",
            "Requirement already satisfied: typing-extensions<3.8.0,>=3.7.0 in /usr/local/lib/python3.7/dist-packages (from apache-beam->object-detection==0.1) (3.7.4.3)\n",
            "Requirement already satisfied: grpcio<2,>=1.29.0 in /usr/local/lib/python3.7/dist-packages (from apache-beam->object-detection==0.1) (1.34.1)\n",
            "Requirement already satisfied: crcmod<2.0,>=1.7 in /usr/local/lib/python3.7/dist-packages (from apache-beam->object-detection==0.1) (1.7)\n",
            "Requirement already satisfied: httplib2<0.20.0,>=0.8 in /usr/local/lib/python3.7/dist-packages (from apache-beam->object-detection==0.1) (0.17.4)\n",
            "Requirement already satisfied: protobuf<4,>=3.12.2 in /usr/local/lib/python3.7/dist-packages (from apache-beam->object-detection==0.1) (3.12.4)\n",
            "Collecting fastavro<2,>=0.21.4\n",
            "\u001b[?25l  Downloading https://files.pythonhosted.org/packages/27/92/10ee74edb0a39f4a7af1cf271b3ac725c54f5c243c26fa5059cd794d15d7/fastavro-1.4.2-cp37-cp37m-manylinux_2_17_x86_64.manylinux2014_x86_64.whl (2.3MB)\n",
            "\u001b[K     |████████████████████████████████| 2.3MB 48.9MB/s \n",
            "\u001b[?25hCollecting dill<0.3.2,>=0.3.1.1\n",
            "\u001b[?25l  Downloading https://files.pythonhosted.org/packages/c7/11/345f3173809cea7f1a193bfbf02403fff250a3360e0e118a1630985e547d/dill-0.3.1.1.tar.gz (151kB)\n",
            "\u001b[K     |████████████████████████████████| 153kB 54.2MB/s \n",
            "\u001b[?25hCollecting future<1.0.0,>=0.18.2\n",
            "\u001b[?25l  Downloading https://files.pythonhosted.org/packages/45/0b/38b06fd9b92dc2b68d58b75f900e97884c45bedd2ff83203d933cf5851c9/future-0.18.2.tar.gz (829kB)\n",
            "\u001b[K     |████████████████████████████████| 829kB 38.3MB/s \n",
            "\u001b[?25hRequirement already satisfied: kiwisolver>=1.0.1 in /usr/local/lib/python3.7/dist-packages (from matplotlib->object-detection==0.1) (1.3.1)\n",
            "Requirement already satisfied: pyparsing!=2.0.4,!=2.1.2,!=2.1.6,>=2.0.1 in /usr/local/lib/python3.7/dist-packages (from matplotlib->object-detection==0.1) (2.4.7)\n",
            "Requirement already satisfied: cycler>=0.10 in /usr/local/lib/python3.7/dist-packages (from matplotlib->object-detection==0.1) (0.10.0)\n",
            "Requirement already satisfied: absl-py>=0.2.2 in /usr/local/lib/python3.7/dist-packages (from tf-slim->object-detection==0.1) (0.12.0)\n",
            "Requirement already satisfied: setuptools>=18.0 in /usr/local/lib/python3.7/dist-packages (from pycocotools->object-detection==0.1) (57.0.0)\n",
            "Requirement already satisfied: opencv-python>=4.1.0.25 in /usr/local/lib/python3.7/dist-packages (from lvis->object-detection==0.1) (4.1.2.30)\n",
            "Collecting sacrebleu\n",
            "\u001b[?25l  Downloading https://files.pythonhosted.org/packages/7e/57/0c7ca4e31a126189dab99c19951910bd081dea5bbd25f24b77107750eae7/sacrebleu-1.5.1-py3-none-any.whl (54kB)\n",
            "\u001b[K     |████████████████████████████████| 61kB 10.3MB/s \n",
            "\u001b[?25hRequirement already satisfied: google-api-python-client>=1.6.7 in /usr/local/lib/python3.7/dist-packages (from tf-models-official->object-detection==0.1) (1.12.8)\n",
            "Collecting tensorflow-addons\n",
            "\u001b[?25l  Downloading https://files.pythonhosted.org/packages/66/4b/e893d194e626c24b3df2253066aa418f46a432fdb68250cde14bf9bb0700/tensorflow_addons-0.13.0-cp37-cp37m-manylinux2010_x86_64.whl (679kB)\n",
            "\u001b[K     |████████████████████████████████| 686kB 44.1MB/s \n",
            "\u001b[?25hCollecting opencv-python-headless\n",
            "\u001b[?25l  Downloading https://files.pythonhosted.org/packages/c3/35/bfc76533f2274cd3da4e2cf255cd13ab9d7f6fc8990c06911e7f8fcc2130/opencv_python_headless-4.5.2.54-cp37-cp37m-manylinux2014_x86_64.whl (38.2MB)\n",
            "\u001b[K     |████████████████████████████████| 38.2MB 62kB/s \n",
            "\u001b[?25hCollecting py-cpuinfo>=3.3.0\n",
            "\u001b[?25l  Downloading https://files.pythonhosted.org/packages/e6/ba/77120e44cbe9719152415b97d5bfb29f4053ee987d6cb63f55ce7d50fadc/py-cpuinfo-8.0.0.tar.gz (99kB)\n",
            "\u001b[K     |████████████████████████████████| 102kB 14.7MB/s \n",
            "\u001b[?25hRequirement already satisfied: kaggle>=1.3.9 in /usr/local/lib/python3.7/dist-packages (from tf-models-official->object-detection==0.1) (1.5.12)\n",
            "Requirement already satisfied: tensorflow-datasets in /usr/local/lib/python3.7/dist-packages (from tf-models-official->object-detection==0.1) (4.0.1)\n",
            "Requirement already satisfied: google-cloud-bigquery>=0.31.0 in /usr/local/lib/python3.7/dist-packages (from tf-models-official->object-detection==0.1) (1.21.0)\n",
            "Requirement already satisfied: tensorflow-hub>=0.6.0 in /usr/local/lib/python3.7/dist-packages (from tf-models-official->object-detection==0.1) (0.12.0)\n",
            "Requirement already satisfied: gin-config in /usr/local/lib/python3.7/dist-packages (from tf-models-official->object-detection==0.1) (0.4.0)\n",
            "Collecting pyyaml>=5.1\n",
            "\u001b[?25l  Downloading https://files.pythonhosted.org/packages/7a/a5/393c087efdc78091afa2af9f1378762f9821c9c1d7a22c5753fb5ac5f97a/PyYAML-5.4.1-cp37-cp37m-manylinux1_x86_64.whl (636kB)\n",
            "\u001b[K     |████████████████████████████████| 645kB 43.1MB/s \n",
            "\u001b[?25hCollecting sentencepiece\n",
            "\u001b[?25l  Downloading https://files.pythonhosted.org/packages/ac/aa/1437691b0c7c83086ebb79ce2da16e00bef024f24fec2a5161c35476f499/sentencepiece-0.1.96-cp37-cp37m-manylinux_2_17_x86_64.manylinux2014_x86_64.whl (1.2MB)\n",
            "\u001b[K     |████████████████████████████████| 1.2MB 40.2MB/s \n",
            "\u001b[?25hRequirement already satisfied: tensorflow>=2.5.0 in /usr/local/lib/python3.7/dist-packages (from tf-models-official->object-detection==0.1) (2.5.0)\n",
            "Requirement already satisfied: psutil>=5.4.3 in /usr/local/lib/python3.7/dist-packages (from tf-models-official->object-detection==0.1) (5.4.8)\n",
            "Collecting seqeval\n",
            "\u001b[?25l  Downloading https://files.pythonhosted.org/packages/9d/2d/233c79d5b4e5ab1dbf111242299153f3caddddbb691219f363ad55ce783d/seqeval-1.2.2.tar.gz (43kB)\n",
            "\u001b[K     |████████████████████████████████| 51kB 7.9MB/s \n",
            "\u001b[?25hCollecting tensorflow-model-optimization>=0.4.1\n",
            "\u001b[?25l  Downloading https://files.pythonhosted.org/packages/78/8f/f6969dc64709c5c5e22cfd7057a83adbc927e6855a431b234168222cbf03/tensorflow_model_optimization-0.6.0-py2.py3-none-any.whl (211kB)\n",
            "\u001b[K     |████████████████████████████████| 215kB 55.0MB/s \n",
            "\u001b[?25hRequirement already satisfied: certifi>=2017.4.17 in /usr/local/lib/python3.7/dist-packages (from requests<3.0.0,>=2.24.0->apache-beam->object-detection==0.1) (2021.5.30)\n",
            "Requirement already satisfied: urllib3<1.27,>=1.21.1 in /usr/local/lib/python3.7/dist-packages (from requests<3.0.0,>=2.24.0->apache-beam->object-detection==0.1) (1.24.3)\n",
            "Requirement already satisfied: chardet<5,>=3.0.2 in /usr/local/lib/python3.7/dist-packages (from requests<3.0.0,>=2.24.0->apache-beam->object-detection==0.1) (3.0.4)\n",
            "Requirement already satisfied: idna<3,>=2.5 in /usr/local/lib/python3.7/dist-packages (from requests<3.0.0,>=2.24.0->apache-beam->object-detection==0.1) (2.10)\n",
            "Requirement already satisfied: rsa>=3.1.4 in /usr/local/lib/python3.7/dist-packages (from oauth2client<5,>=2.0.1->apache-beam->object-detection==0.1) (4.7.2)\n",
            "Requirement already satisfied: pyasn1-modules>=0.0.5 in /usr/local/lib/python3.7/dist-packages (from oauth2client<5,>=2.0.1->apache-beam->object-detection==0.1) (0.2.8)\n",
            "Requirement already satisfied: pyasn1>=0.1.7 in /usr/local/lib/python3.7/dist-packages (from oauth2client<5,>=2.0.1->apache-beam->object-detection==0.1) (0.4.8)\n",
            "Requirement already satisfied: docopt in /usr/local/lib/python3.7/dist-packages (from hdfs<3.0.0,>=2.1.0->apache-beam->object-detection==0.1) (0.6.2)\n",
            "Collecting portalocker==2.0.0\n",
            "  Downloading https://files.pythonhosted.org/packages/89/a6/3814b7107e0788040870e8825eebf214d72166adf656ba7d4bf14759a06a/portalocker-2.0.0-py2.py3-none-any.whl\n",
            "Requirement already satisfied: google-auth>=1.16.0 in /usr/local/lib/python3.7/dist-packages (from google-api-python-client>=1.6.7->tf-models-official->object-detection==0.1) (1.31.0)\n",
            "Requirement already satisfied: google-auth-httplib2>=0.0.3 in /usr/local/lib/python3.7/dist-packages (from google-api-python-client>=1.6.7->tf-models-official->object-detection==0.1) (0.0.4)\n",
            "Requirement already satisfied: google-api-core<2dev,>=1.21.0 in /usr/local/lib/python3.7/dist-packages (from google-api-python-client>=1.6.7->tf-models-official->object-detection==0.1) (1.26.3)\n",
            "Requirement already satisfied: uritemplate<4dev,>=3.0.0 in /usr/local/lib/python3.7/dist-packages (from google-api-python-client>=1.6.7->tf-models-official->object-detection==0.1) (3.0.1)\n",
            "Requirement already satisfied: typeguard>=2.7 in /usr/local/lib/python3.7/dist-packages (from tensorflow-addons->tf-models-official->object-detection==0.1) (2.7.1)\n",
            "Requirement already satisfied: tqdm in /usr/local/lib/python3.7/dist-packages (from kaggle>=1.3.9->tf-models-official->object-detection==0.1) (4.41.1)\n",
            "Requirement already satisfied: python-slugify in /usr/local/lib/python3.7/dist-packages (from kaggle>=1.3.9->tf-models-official->object-detection==0.1) (5.0.2)\n",
            "Requirement already satisfied: attrs>=18.1.0 in /usr/local/lib/python3.7/dist-packages (from tensorflow-datasets->tf-models-official->object-detection==0.1) (21.2.0)\n",
            "Requirement already satisfied: tensorflow-metadata in /usr/local/lib/python3.7/dist-packages (from tensorflow-datasets->tf-models-official->object-detection==0.1) (1.0.0)\n",
            "Requirement already satisfied: importlib-resources; python_version < \"3.9\" in /usr/local/lib/python3.7/dist-packages (from tensorflow-datasets->tf-models-official->object-detection==0.1) (5.1.4)\n",
            "Requirement already satisfied: termcolor in /usr/local/lib/python3.7/dist-packages (from tensorflow-datasets->tf-models-official->object-detection==0.1) (1.1.0)\n",
            "Requirement already satisfied: promise in /usr/local/lib/python3.7/dist-packages (from tensorflow-datasets->tf-models-official->object-detection==0.1) (2.3)\n",
            "Requirement already satisfied: dm-tree in /usr/local/lib/python3.7/dist-packages (from tensorflow-datasets->tf-models-official->object-detection==0.1) (0.1.6)\n",
            "Requirement already satisfied: google-resumable-media!=0.4.0,<0.5.0dev,>=0.3.1 in /usr/local/lib/python3.7/dist-packages (from google-cloud-bigquery>=0.31.0->tf-models-official->object-detection==0.1) (0.4.1)\n",
            "Requirement already satisfied: google-cloud-core<2.0dev,>=1.0.3 in /usr/local/lib/python3.7/dist-packages (from google-cloud-bigquery>=0.31.0->tf-models-official->object-detection==0.1) (1.0.3)\n",
            "Requirement already satisfied: gast==0.4.0 in /usr/local/lib/python3.7/dist-packages (from tensorflow>=2.5.0->tf-models-official->object-detection==0.1) (0.4.0)\n",
            "Requirement already satisfied: flatbuffers~=1.12.0 in /usr/local/lib/python3.7/dist-packages (from tensorflow>=2.5.0->tf-models-official->object-detection==0.1) (1.12)\n",
            "Requirement already satisfied: tensorboard~=2.5 in /usr/local/lib/python3.7/dist-packages (from tensorflow>=2.5.0->tf-models-official->object-detection==0.1) (2.5.0)\n",
            "Requirement already satisfied: wheel~=0.35 in /usr/local/lib/python3.7/dist-packages (from tensorflow>=2.5.0->tf-models-official->object-detection==0.1) (0.36.2)\n",
            "Requirement already satisfied: keras-nightly~=2.5.0.dev in /usr/local/lib/python3.7/dist-packages (from tensorflow>=2.5.0->tf-models-official->object-detection==0.1) (2.5.0.dev2021032900)\n",
            "Requirement already satisfied: h5py~=3.1.0 in /usr/local/lib/python3.7/dist-packages (from tensorflow>=2.5.0->tf-models-official->object-detection==0.1) (3.1.0)\n",
            "Requirement already satisfied: astunparse~=1.6.3 in /usr/local/lib/python3.7/dist-packages (from tensorflow>=2.5.0->tf-models-official->object-detection==0.1) (1.6.3)\n",
            "Requirement already satisfied: wrapt~=1.12.1 in /usr/local/lib/python3.7/dist-packages (from tensorflow>=2.5.0->tf-models-official->object-detection==0.1) (1.12.1)\n",
            "Requirement already satisfied: keras-preprocessing~=1.1.2 in /usr/local/lib/python3.7/dist-packages (from tensorflow>=2.5.0->tf-models-official->object-detection==0.1) (1.1.2)\n",
            "Requirement already satisfied: google-pasta~=0.2 in /usr/local/lib/python3.7/dist-packages (from tensorflow>=2.5.0->tf-models-official->object-detection==0.1) (0.2.0)\n",
            "Requirement already satisfied: opt-einsum~=3.3.0 in /usr/local/lib/python3.7/dist-packages (from tensorflow>=2.5.0->tf-models-official->object-detection==0.1) (3.3.0)\n",
            "Requirement already satisfied: tensorflow-estimator<2.6.0,>=2.5.0rc0 in /usr/local/lib/python3.7/dist-packages (from tensorflow>=2.5.0->tf-models-official->object-detection==0.1) (2.5.0)\n",
            "Requirement already satisfied: scikit-learn>=0.21.3 in /usr/local/lib/python3.7/dist-packages (from seqeval->tf-models-official->object-detection==0.1) (0.22.2.post1)\n",
            "Requirement already satisfied: cachetools<5.0,>=2.0.0 in /usr/local/lib/python3.7/dist-packages (from google-auth>=1.16.0->google-api-python-client>=1.6.7->tf-models-official->object-detection==0.1) (4.2.2)\n",
            "Requirement already satisfied: googleapis-common-protos<2.0dev,>=1.6.0 in /usr/local/lib/python3.7/dist-packages (from google-api-core<2dev,>=1.21.0->google-api-python-client>=1.6.7->tf-models-official->object-detection==0.1) (1.53.0)\n",
            "Requirement already satisfied: packaging>=14.3 in /usr/local/lib/python3.7/dist-packages (from google-api-core<2dev,>=1.21.0->google-api-python-client>=1.6.7->tf-models-official->object-detection==0.1) (20.9)\n",
            "Requirement already satisfied: text-unidecode>=1.3 in /usr/local/lib/python3.7/dist-packages (from python-slugify->kaggle>=1.3.9->tf-models-official->object-detection==0.1) (1.3)\n",
            "Requirement already satisfied: zipp>=3.1.0; python_version < \"3.10\" in /usr/local/lib/python3.7/dist-packages (from importlib-resources; python_version < \"3.9\"->tensorflow-datasets->tf-models-official->object-detection==0.1) (3.4.1)\n",
            "Requirement already satisfied: tensorboard-data-server<0.7.0,>=0.6.0 in /usr/local/lib/python3.7/dist-packages (from tensorboard~=2.5->tensorflow>=2.5.0->tf-models-official->object-detection==0.1) (0.6.1)\n",
            "Requirement already satisfied: google-auth-oauthlib<0.5,>=0.4.1 in /usr/local/lib/python3.7/dist-packages (from tensorboard~=2.5->tensorflow>=2.5.0->tf-models-official->object-detection==0.1) (0.4.4)\n",
            "Requirement already satisfied: tensorboard-plugin-wit>=1.6.0 in /usr/local/lib/python3.7/dist-packages (from tensorboard~=2.5->tensorflow>=2.5.0->tf-models-official->object-detection==0.1) (1.8.0)\n",
            "Requirement already satisfied: werkzeug>=0.11.15 in /usr/local/lib/python3.7/dist-packages (from tensorboard~=2.5->tensorflow>=2.5.0->tf-models-official->object-detection==0.1) (1.0.1)\n",
            "Requirement already satisfied: markdown>=2.6.8 in /usr/local/lib/python3.7/dist-packages (from tensorboard~=2.5->tensorflow>=2.5.0->tf-models-official->object-detection==0.1) (3.3.4)\n",
            "Requirement already satisfied: cached-property; python_version < \"3.8\" in /usr/local/lib/python3.7/dist-packages (from h5py~=3.1.0->tensorflow>=2.5.0->tf-models-official->object-detection==0.1) (1.5.2)\n",
            "Requirement already satisfied: joblib>=0.11 in /usr/local/lib/python3.7/dist-packages (from scikit-learn>=0.21.3->seqeval->tf-models-official->object-detection==0.1) (1.0.1)\n",
            "Requirement already satisfied: requests-oauthlib>=0.7.0 in /usr/local/lib/python3.7/dist-packages (from google-auth-oauthlib<0.5,>=0.4.1->tensorboard~=2.5->tensorflow>=2.5.0->tf-models-official->object-detection==0.1) (1.3.0)\n",
            "Requirement already satisfied: importlib-metadata; python_version < \"3.8\" in /usr/local/lib/python3.7/dist-packages (from markdown>=2.6.8->tensorboard~=2.5->tensorflow>=2.5.0->tf-models-official->object-detection==0.1) (4.5.0)\n",
            "Requirement already satisfied: oauthlib>=3.0.0 in /usr/local/lib/python3.7/dist-packages (from requests-oauthlib>=0.7.0->google-auth-oauthlib<0.5,>=0.4.1->tensorboard~=2.5->tensorflow>=2.5.0->tf-models-official->object-detection==0.1) (3.1.1)\n",
            "Building wheels for collected packages: object-detection, avro-python3, dill, future, py-cpuinfo, seqeval\n",
            "  Building wheel for object-detection (setup.py) ... \u001b[?25l\u001b[?25hdone\n",
            "  Created wheel for object-detection: filename=object_detection-0.1-cp37-none-any.whl size=1658069 sha256=84f0a786edd656609ff451100004854c59194c4915f55c3334b33aaae6db6fa1\n",
            "  Stored in directory: /tmp/pip-ephem-wheel-cache-80sapoev/wheels/ac/8a/90/02d8042c0333b38a96341f55d93b379bb170f98b196de6b536\n",
            "  Building wheel for avro-python3 (setup.py) ... \u001b[?25l\u001b[?25hdone\n",
            "  Created wheel for avro-python3: filename=avro_python3-1.10.2-cp37-none-any.whl size=44011 sha256=fd4a6ef3e5bd39dd7fa13fac1563f41e0e437938daa10c848bfb2c38270d5d01\n",
            "  Stored in directory: /root/.cache/pip/wheels/ee/ee/18/c466221ca6900e3efce2f4ea9c329288808679aecdcb2838d3\n",
            "  Building wheel for dill (setup.py) ... \u001b[?25l\u001b[?25hdone\n",
            "  Created wheel for dill: filename=dill-0.3.1.1-cp37-none-any.whl size=78545 sha256=4438536af787268c5b009e18759d05d708a756058074581c98b4ad144744a44e\n",
            "  Stored in directory: /root/.cache/pip/wheels/59/b1/91/f02e76c732915c4015ab4010f3015469866c1eb9b14058d8e7\n",
            "  Building wheel for future (setup.py) ... \u001b[?25l\u001b[?25hdone\n",
            "  Created wheel for future: filename=future-0.18.2-cp37-none-any.whl size=491070 sha256=debf8b4b20e8d3499bf406b7cf0ddf7a1e776c04ca9ea6f9f6cbabc25b285734\n",
            "  Stored in directory: /root/.cache/pip/wheels/8b/99/a0/81daf51dcd359a9377b110a8a886b3895921802d2fc1b2397e\n",
            "  Building wheel for py-cpuinfo (setup.py) ... \u001b[?25l\u001b[?25hdone\n",
            "  Created wheel for py-cpuinfo: filename=py_cpuinfo-8.0.0-cp37-none-any.whl size=22258 sha256=e0197c176f2c20e9af575316c3d729f730254c58430b81644c8d3c9f82525878\n",
            "  Stored in directory: /root/.cache/pip/wheels/2e/15/f5/aa2a056d223903b52cf4870134e3a01df0c723816835dd08db\n",
            "  Building wheel for seqeval (setup.py) ... \u001b[?25l\u001b[?25hdone\n",
            "  Created wheel for seqeval: filename=seqeval-1.2.2-cp37-none-any.whl size=16184 sha256=eb8592dff8a0be13a97a82d773d0efe4c0a7f6a0f1602a50238dd9a8cff2accc\n",
            "  Stored in directory: /root/.cache/pip/wheels/52/df/1b/45d75646c37428f7e626214704a0e35bd3cfc32eda37e59e5f\n",
            "Successfully built object-detection avro-python3 dill future py-cpuinfo seqeval\n",
            "\u001b[31mERROR: multiprocess 0.70.12.2 has requirement dill>=0.3.4, but you'll have dill 0.3.1.1 which is incompatible.\u001b[0m\n",
            "\u001b[31mERROR: google-colab 1.0.0 has requirement requests~=2.23.0, but you'll have requests 2.25.1 which is incompatible.\u001b[0m\n",
            "\u001b[31mERROR: datascience 0.10.6 has requirement folium==0.2.1, but you'll have folium 0.8.3 which is incompatible.\u001b[0m\n",
            "\u001b[31mERROR: apache-beam 2.30.0 has requirement avro-python3!=1.9.2,<1.10.0,>=1.8.1, but you'll have avro-python3 1.10.2 which is incompatible.\u001b[0m\n",
            "Installing collected packages: avro-python3, requests, hdfs, fastavro, dill, future, apache-beam, tf-slim, lvis, portalocker, sacrebleu, tensorflow-addons, opencv-python-headless, py-cpuinfo, pyyaml, sentencepiece, seqeval, tensorflow-model-optimization, tf-models-official, object-detection\n",
            "  Found existing installation: requests 2.23.0\n",
            "    Uninstalling requests-2.23.0:\n",
            "      Successfully uninstalled requests-2.23.0\n",
            "  Found existing installation: dill 0.3.4\n",
            "    Uninstalling dill-0.3.4:\n",
            "      Successfully uninstalled dill-0.3.4\n",
            "  Found existing installation: future 0.16.0\n",
            "    Uninstalling future-0.16.0:\n",
            "      Successfully uninstalled future-0.16.0\n",
            "  Found existing installation: PyYAML 3.13\n",
            "    Uninstalling PyYAML-3.13:\n",
            "      Successfully uninstalled PyYAML-3.13\n",
            "Successfully installed apache-beam-2.30.0 avro-python3-1.10.2 dill-0.3.1.1 fastavro-1.4.2 future-0.18.2 hdfs-2.6.0 lvis-0.5.3 object-detection-0.1 opencv-python-headless-4.5.2.54 portalocker-2.0.0 py-cpuinfo-8.0.0 pyyaml-5.4.1 requests-2.25.1 sacrebleu-1.5.1 sentencepiece-0.1.96 seqeval-1.2.2 tensorflow-addons-0.13.0 tensorflow-model-optimization-0.6.0 tf-models-official-2.5.0 tf-slim-1.1.0\n"
          ],
          "name": "stdout"
        }
      ]
    },
    {
      "cell_type": "code",
      "metadata": {
        "scrolled": true,
        "colab": {
          "base_uri": "https://localhost:8080/"
        },
        "id": "2O-jeZeyEwrE",
        "outputId": "23b88dda-5f2c-4e0a-80f8-0f2b8dd960a3"
      },
      "source": [
        "VERIFICATION_SCRIPT = os.path.join(paths['APIMODEL_PATH'], 'research', 'object_detection', 'builders', 'model_builder_tf2_test.py')\n",
        "# Verify Installation\n",
        "!python {VERIFICATION_SCRIPT}"
      ],
      "execution_count": 10,
      "outputs": [
        {
          "output_type": "stream",
          "text": [
            "2021-07-04 20:04:35.310716: I tensorflow/stream_executor/platform/default/dso_loader.cc:53] Successfully opened dynamic library libcudart.so.11.0\n",
            "Running tests under Python 3.7.10: /usr/bin/python3\n",
            "[ RUN      ] ModelBuilderTF2Test.test_create_center_net_deepmac\n",
            "2021-07-04 20:04:37.281379: I tensorflow/stream_executor/platform/default/dso_loader.cc:53] Successfully opened dynamic library libcuda.so.1\n",
            "2021-07-04 20:04:37.345727: I tensorflow/stream_executor/cuda/cuda_gpu_executor.cc:937] successful NUMA node read from SysFS had negative value (-1), but there must be at least one NUMA node, so returning NUMA node zero\n",
            "2021-07-04 20:04:37.346327: I tensorflow/core/common_runtime/gpu/gpu_device.cc:1733] Found device 0 with properties: \n",
            "pciBusID: 0000:00:04.0 name: Tesla T4 computeCapability: 7.5\n",
            "coreClock: 1.59GHz coreCount: 40 deviceMemorySize: 14.75GiB deviceMemoryBandwidth: 298.08GiB/s\n",
            "2021-07-04 20:04:37.346378: I tensorflow/stream_executor/platform/default/dso_loader.cc:53] Successfully opened dynamic library libcudart.so.11.0\n",
            "2021-07-04 20:04:37.470666: I tensorflow/stream_executor/platform/default/dso_loader.cc:53] Successfully opened dynamic library libcublas.so.11\n",
            "2021-07-04 20:04:37.470771: I tensorflow/stream_executor/platform/default/dso_loader.cc:53] Successfully opened dynamic library libcublasLt.so.11\n",
            "2021-07-04 20:04:37.649010: I tensorflow/stream_executor/platform/default/dso_loader.cc:53] Successfully opened dynamic library libcufft.so.10\n",
            "2021-07-04 20:04:37.664493: I tensorflow/stream_executor/platform/default/dso_loader.cc:53] Successfully opened dynamic library libcurand.so.10\n",
            "2021-07-04 20:04:37.945691: I tensorflow/stream_executor/platform/default/dso_loader.cc:53] Successfully opened dynamic library libcusolver.so.10\n",
            "2021-07-04 20:04:37.957660: I tensorflow/stream_executor/platform/default/dso_loader.cc:53] Successfully opened dynamic library libcusparse.so.11\n",
            "2021-07-04 20:04:37.961066: I tensorflow/stream_executor/platform/default/dso_loader.cc:53] Successfully opened dynamic library libcudnn.so.8\n",
            "2021-07-04 20:04:37.961200: I tensorflow/stream_executor/cuda/cuda_gpu_executor.cc:937] successful NUMA node read from SysFS had negative value (-1), but there must be at least one NUMA node, so returning NUMA node zero\n",
            "2021-07-04 20:04:37.961887: I tensorflow/stream_executor/cuda/cuda_gpu_executor.cc:937] successful NUMA node read from SysFS had negative value (-1), but there must be at least one NUMA node, so returning NUMA node zero\n",
            "2021-07-04 20:04:37.964665: I tensorflow/core/common_runtime/gpu/gpu_device.cc:1871] Adding visible gpu devices: 0\n",
            "2021-07-04 20:04:37.965202: I tensorflow/stream_executor/cuda/cuda_gpu_executor.cc:937] successful NUMA node read from SysFS had negative value (-1), but there must be at least one NUMA node, so returning NUMA node zero\n",
            "2021-07-04 20:04:37.965840: I tensorflow/core/common_runtime/gpu/gpu_device.cc:1733] Found device 0 with properties: \n",
            "pciBusID: 0000:00:04.0 name: Tesla T4 computeCapability: 7.5\n",
            "coreClock: 1.59GHz coreCount: 40 deviceMemorySize: 14.75GiB deviceMemoryBandwidth: 298.08GiB/s\n",
            "2021-07-04 20:04:37.965923: I tensorflow/stream_executor/cuda/cuda_gpu_executor.cc:937] successful NUMA node read from SysFS had negative value (-1), but there must be at least one NUMA node, so returning NUMA node zero\n",
            "2021-07-04 20:04:37.966583: I tensorflow/stream_executor/cuda/cuda_gpu_executor.cc:937] successful NUMA node read from SysFS had negative value (-1), but there must be at least one NUMA node, so returning NUMA node zero\n",
            "2021-07-04 20:04:37.967125: I tensorflow/core/common_runtime/gpu/gpu_device.cc:1871] Adding visible gpu devices: 0\n",
            "2021-07-04 20:04:37.969454: I tensorflow/stream_executor/platform/default/dso_loader.cc:53] Successfully opened dynamic library libcudart.so.11.0\n",
            "2021-07-04 20:04:42.304102: I tensorflow/core/common_runtime/gpu/gpu_device.cc:1258] Device interconnect StreamExecutor with strength 1 edge matrix:\n",
            "2021-07-04 20:04:42.304150: I tensorflow/core/common_runtime/gpu/gpu_device.cc:1264]      0 \n",
            "2021-07-04 20:04:42.304165: I tensorflow/core/common_runtime/gpu/gpu_device.cc:1277] 0:   N \n",
            "2021-07-04 20:04:42.304355: I tensorflow/stream_executor/cuda/cuda_gpu_executor.cc:937] successful NUMA node read from SysFS had negative value (-1), but there must be at least one NUMA node, so returning NUMA node zero\n",
            "2021-07-04 20:04:42.304969: I tensorflow/stream_executor/cuda/cuda_gpu_executor.cc:937] successful NUMA node read from SysFS had negative value (-1), but there must be at least one NUMA node, so returning NUMA node zero\n",
            "2021-07-04 20:04:42.305543: I tensorflow/stream_executor/cuda/cuda_gpu_executor.cc:937] successful NUMA node read from SysFS had negative value (-1), but there must be at least one NUMA node, so returning NUMA node zero\n",
            "2021-07-04 20:04:42.306058: W tensorflow/core/common_runtime/gpu/gpu_bfc_allocator.cc:39] Overriding allow_growth setting because the TF_FORCE_GPU_ALLOW_GROWTH environment variable is set. Original config value was 0.\n",
            "2021-07-04 20:04:42.306101: I tensorflow/core/common_runtime/gpu/gpu_device.cc:1418] Created TensorFlow device (/job:localhost/replica:0/task:0/device:GPU:0 with 13837 MB memory) -> physical GPU (device: 0, name: Tesla T4, pci bus id: 0000:00:04.0, compute capability: 7.5)\n",
            "W0704 20:04:42.594185 140687442577280 model_builder.py:1088] Building experimental DeepMAC meta-arch. Some features may be omitted.\n",
            "INFO:tensorflow:time(__main__.ModelBuilderTF2Test.test_create_center_net_deepmac): 5.55s\n",
            "I0704 20:04:42.822273 140687442577280 test_util.py:2103] time(__main__.ModelBuilderTF2Test.test_create_center_net_deepmac): 5.55s\n",
            "[       OK ] ModelBuilderTF2Test.test_create_center_net_deepmac\n",
            "[ RUN      ] ModelBuilderTF2Test.test_create_center_net_model0 (customize_head_params=True)\n",
            "INFO:tensorflow:time(__main__.ModelBuilderTF2Test.test_create_center_net_model0 (customize_head_params=True)): 0.52s\n",
            "I0704 20:04:43.347245 140687442577280 test_util.py:2103] time(__main__.ModelBuilderTF2Test.test_create_center_net_model0 (customize_head_params=True)): 0.52s\n",
            "[       OK ] ModelBuilderTF2Test.test_create_center_net_model0 (customize_head_params=True)\n",
            "[ RUN      ] ModelBuilderTF2Test.test_create_center_net_model1 (customize_head_params=False)\n",
            "INFO:tensorflow:time(__main__.ModelBuilderTF2Test.test_create_center_net_model1 (customize_head_params=False)): 0.24s\n",
            "I0704 20:04:43.591831 140687442577280 test_util.py:2103] time(__main__.ModelBuilderTF2Test.test_create_center_net_model1 (customize_head_params=False)): 0.24s\n",
            "[       OK ] ModelBuilderTF2Test.test_create_center_net_model1 (customize_head_params=False)\n",
            "[ RUN      ] ModelBuilderTF2Test.test_create_center_net_model_from_keypoints\n",
            "INFO:tensorflow:time(__main__.ModelBuilderTF2Test.test_create_center_net_model_from_keypoints): 0.22s\n",
            "I0704 20:04:43.815982 140687442577280 test_util.py:2103] time(__main__.ModelBuilderTF2Test.test_create_center_net_model_from_keypoints): 0.22s\n",
            "[       OK ] ModelBuilderTF2Test.test_create_center_net_model_from_keypoints\n",
            "[ RUN      ] ModelBuilderTF2Test.test_create_center_net_model_mobilenet\n",
            "WARNING:tensorflow:`input_shape` is undefined or non-square, or `rows` is not in [96, 128, 160, 192, 224]. Weights for input shape (224, 224) will be loaded as the default.\n",
            "W0704 20:04:43.818089 140687442577280 mobilenet_v2.py:296] `input_shape` is undefined or non-square, or `rows` is not in [96, 128, 160, 192, 224]. Weights for input shape (224, 224) will be loaded as the default.\n",
            "Downloading data from https://storage.googleapis.com/tensorflow/keras-applications/mobilenet_v2/mobilenet_v2_weights_tf_dim_ordering_tf_kernels_1.0_224_no_top.h5\n",
            "9412608/9406464 [==============================] - 0s 0us/step\n",
            "INFO:tensorflow:time(__main__.ModelBuilderTF2Test.test_create_center_net_model_mobilenet): 1.86s\n",
            "I0704 20:04:45.677255 140687442577280 test_util.py:2103] time(__main__.ModelBuilderTF2Test.test_create_center_net_model_mobilenet): 1.86s\n",
            "[       OK ] ModelBuilderTF2Test.test_create_center_net_model_mobilenet\n",
            "[ RUN      ] ModelBuilderTF2Test.test_create_experimental_model\n",
            "INFO:tensorflow:time(__main__.ModelBuilderTF2Test.test_create_experimental_model): 0.0s\n",
            "I0704 20:04:45.678171 140687442577280 test_util.py:2103] time(__main__.ModelBuilderTF2Test.test_create_experimental_model): 0.0s\n",
            "[       OK ] ModelBuilderTF2Test.test_create_experimental_model\n",
            "[ RUN      ] ModelBuilderTF2Test.test_create_faster_rcnn_from_config_with_crop_feature0 (True)\n",
            "INFO:tensorflow:time(__main__.ModelBuilderTF2Test.test_create_faster_rcnn_from_config_with_crop_feature0 (True)): 0.02s\n",
            "I0704 20:04:45.697233 140687442577280 test_util.py:2103] time(__main__.ModelBuilderTF2Test.test_create_faster_rcnn_from_config_with_crop_feature0 (True)): 0.02s\n",
            "[       OK ] ModelBuilderTF2Test.test_create_faster_rcnn_from_config_with_crop_feature0 (True)\n",
            "[ RUN      ] ModelBuilderTF2Test.test_create_faster_rcnn_from_config_with_crop_feature1 (False)\n",
            "INFO:tensorflow:time(__main__.ModelBuilderTF2Test.test_create_faster_rcnn_from_config_with_crop_feature1 (False)): 0.01s\n",
            "I0704 20:04:45.709959 140687442577280 test_util.py:2103] time(__main__.ModelBuilderTF2Test.test_create_faster_rcnn_from_config_with_crop_feature1 (False)): 0.01s\n",
            "[       OK ] ModelBuilderTF2Test.test_create_faster_rcnn_from_config_with_crop_feature1 (False)\n",
            "[ RUN      ] ModelBuilderTF2Test.test_create_faster_rcnn_model_from_config_with_example_miner\n",
            "INFO:tensorflow:time(__main__.ModelBuilderTF2Test.test_create_faster_rcnn_model_from_config_with_example_miner): 0.01s\n",
            "I0704 20:04:45.723348 140687442577280 test_util.py:2103] time(__main__.ModelBuilderTF2Test.test_create_faster_rcnn_model_from_config_with_example_miner): 0.01s\n",
            "[       OK ] ModelBuilderTF2Test.test_create_faster_rcnn_model_from_config_with_example_miner\n",
            "[ RUN      ] ModelBuilderTF2Test.test_create_faster_rcnn_models_from_config_faster_rcnn_with_matmul\n",
            "INFO:tensorflow:time(__main__.ModelBuilderTF2Test.test_create_faster_rcnn_models_from_config_faster_rcnn_with_matmul): 0.09s\n",
            "I0704 20:04:45.808764 140687442577280 test_util.py:2103] time(__main__.ModelBuilderTF2Test.test_create_faster_rcnn_models_from_config_faster_rcnn_with_matmul): 0.09s\n",
            "[       OK ] ModelBuilderTF2Test.test_create_faster_rcnn_models_from_config_faster_rcnn_with_matmul\n",
            "[ RUN      ] ModelBuilderTF2Test.test_create_faster_rcnn_models_from_config_faster_rcnn_without_matmul\n",
            "INFO:tensorflow:time(__main__.ModelBuilderTF2Test.test_create_faster_rcnn_models_from_config_faster_rcnn_without_matmul): 0.09s\n",
            "I0704 20:04:45.895738 140687442577280 test_util.py:2103] time(__main__.ModelBuilderTF2Test.test_create_faster_rcnn_models_from_config_faster_rcnn_without_matmul): 0.09s\n",
            "[       OK ] ModelBuilderTF2Test.test_create_faster_rcnn_models_from_config_faster_rcnn_without_matmul\n",
            "[ RUN      ] ModelBuilderTF2Test.test_create_faster_rcnn_models_from_config_mask_rcnn_with_matmul\n",
            "INFO:tensorflow:time(__main__.ModelBuilderTF2Test.test_create_faster_rcnn_models_from_config_mask_rcnn_with_matmul): 0.09s\n",
            "I0704 20:04:45.987506 140687442577280 test_util.py:2103] time(__main__.ModelBuilderTF2Test.test_create_faster_rcnn_models_from_config_mask_rcnn_with_matmul): 0.09s\n",
            "[       OK ] ModelBuilderTF2Test.test_create_faster_rcnn_models_from_config_mask_rcnn_with_matmul\n",
            "[ RUN      ] ModelBuilderTF2Test.test_create_faster_rcnn_models_from_config_mask_rcnn_without_matmul\n",
            "INFO:tensorflow:time(__main__.ModelBuilderTF2Test.test_create_faster_rcnn_models_from_config_mask_rcnn_without_matmul): 0.09s\n",
            "I0704 20:04:46.073023 140687442577280 test_util.py:2103] time(__main__.ModelBuilderTF2Test.test_create_faster_rcnn_models_from_config_mask_rcnn_without_matmul): 0.09s\n",
            "[       OK ] ModelBuilderTF2Test.test_create_faster_rcnn_models_from_config_mask_rcnn_without_matmul\n",
            "[ RUN      ] ModelBuilderTF2Test.test_create_rfcn_model_from_config\n",
            "INFO:tensorflow:time(__main__.ModelBuilderTF2Test.test_create_rfcn_model_from_config): 0.08s\n",
            "I0704 20:04:46.158299 140687442577280 test_util.py:2103] time(__main__.ModelBuilderTF2Test.test_create_rfcn_model_from_config): 0.08s\n",
            "[       OK ] ModelBuilderTF2Test.test_create_rfcn_model_from_config\n",
            "[ RUN      ] ModelBuilderTF2Test.test_create_ssd_fpn_model_from_config\n",
            "INFO:tensorflow:time(__main__.ModelBuilderTF2Test.test_create_ssd_fpn_model_from_config): 0.02s\n",
            "I0704 20:04:46.182991 140687442577280 test_util.py:2103] time(__main__.ModelBuilderTF2Test.test_create_ssd_fpn_model_from_config): 0.02s\n",
            "[       OK ] ModelBuilderTF2Test.test_create_ssd_fpn_model_from_config\n",
            "[ RUN      ] ModelBuilderTF2Test.test_create_ssd_models_from_config\n",
            "I0704 20:04:46.344880 140687442577280 ssd_efficientnet_bifpn_feature_extractor.py:143] EfficientDet EfficientNet backbone version: efficientnet-b0\n",
            "I0704 20:04:46.345021 140687442577280 ssd_efficientnet_bifpn_feature_extractor.py:144] EfficientDet BiFPN num filters: 64\n",
            "I0704 20:04:46.345091 140687442577280 ssd_efficientnet_bifpn_feature_extractor.py:146] EfficientDet BiFPN num iterations: 3\n",
            "I0704 20:04:46.346897 140687442577280 efficientnet_model.py:147] round_filter input=32 output=32\n",
            "I0704 20:04:46.361616 140687442577280 efficientnet_model.py:147] round_filter input=32 output=32\n",
            "I0704 20:04:46.361727 140687442577280 efficientnet_model.py:147] round_filter input=16 output=16\n",
            "I0704 20:04:46.415876 140687442577280 efficientnet_model.py:147] round_filter input=16 output=16\n",
            "I0704 20:04:46.415997 140687442577280 efficientnet_model.py:147] round_filter input=24 output=24\n",
            "I0704 20:04:46.543032 140687442577280 efficientnet_model.py:147] round_filter input=24 output=24\n",
            "I0704 20:04:46.543161 140687442577280 efficientnet_model.py:147] round_filter input=40 output=40\n",
            "I0704 20:04:46.676549 140687442577280 efficientnet_model.py:147] round_filter input=40 output=40\n",
            "I0704 20:04:46.676708 140687442577280 efficientnet_model.py:147] round_filter input=80 output=80\n",
            "I0704 20:04:46.991028 140687442577280 efficientnet_model.py:147] round_filter input=80 output=80\n",
            "I0704 20:04:46.991194 140687442577280 efficientnet_model.py:147] round_filter input=112 output=112\n",
            "I0704 20:04:47.185976 140687442577280 efficientnet_model.py:147] round_filter input=112 output=112\n",
            "I0704 20:04:47.186139 140687442577280 efficientnet_model.py:147] round_filter input=192 output=192\n",
            "I0704 20:04:47.449455 140687442577280 efficientnet_model.py:147] round_filter input=192 output=192\n",
            "I0704 20:04:47.449617 140687442577280 efficientnet_model.py:147] round_filter input=320 output=320\n",
            "I0704 20:04:47.514913 140687442577280 efficientnet_model.py:147] round_filter input=1280 output=1280\n",
            "I0704 20:04:47.541248 140687442577280 efficientnet_model.py:458] Building model efficientnet with params ModelConfig(width_coefficient=1.0, depth_coefficient=1.0, resolution=224, dropout_rate=0.2, blocks=(BlockConfig(input_filters=32, output_filters=16, kernel_size=3, num_repeat=1, expand_ratio=1, strides=(1, 1), se_ratio=0.25, id_skip=True, fused_conv=False, conv_type='depthwise'), BlockConfig(input_filters=16, output_filters=24, kernel_size=3, num_repeat=2, expand_ratio=6, strides=(2, 2), se_ratio=0.25, id_skip=True, fused_conv=False, conv_type='depthwise'), BlockConfig(input_filters=24, output_filters=40, kernel_size=5, num_repeat=2, expand_ratio=6, strides=(2, 2), se_ratio=0.25, id_skip=True, fused_conv=False, conv_type='depthwise'), BlockConfig(input_filters=40, output_filters=80, kernel_size=3, num_repeat=3, expand_ratio=6, strides=(2, 2), se_ratio=0.25, id_skip=True, fused_conv=False, conv_type='depthwise'), BlockConfig(input_filters=80, output_filters=112, kernel_size=5, num_repeat=3, expand_ratio=6, strides=(1, 1), se_ratio=0.25, id_skip=True, fused_conv=False, conv_type='depthwise'), BlockConfig(input_filters=112, output_filters=192, kernel_size=5, num_repeat=4, expand_ratio=6, strides=(2, 2), se_ratio=0.25, id_skip=True, fused_conv=False, conv_type='depthwise'), BlockConfig(input_filters=192, output_filters=320, kernel_size=3, num_repeat=1, expand_ratio=6, strides=(1, 1), se_ratio=0.25, id_skip=True, fused_conv=False, conv_type='depthwise')), stem_base_filters=32, top_base_filters=1280, activation='simple_swish', batch_norm='default', bn_momentum=0.99, bn_epsilon=0.001, weight_decay=5e-06, drop_connect_rate=0.2, depth_divisor=8, min_depth=None, use_se=True, input_channels=3, num_classes=1000, model_name='efficientnet', rescale_input=False, data_format='channels_last', dtype='float32')\n",
            "I0704 20:04:47.587393 140687442577280 ssd_efficientnet_bifpn_feature_extractor.py:143] EfficientDet EfficientNet backbone version: efficientnet-b1\n",
            "I0704 20:04:47.587519 140687442577280 ssd_efficientnet_bifpn_feature_extractor.py:144] EfficientDet BiFPN num filters: 88\n",
            "I0704 20:04:47.587589 140687442577280 ssd_efficientnet_bifpn_feature_extractor.py:146] EfficientDet BiFPN num iterations: 4\n",
            "I0704 20:04:47.589049 140687442577280 efficientnet_model.py:147] round_filter input=32 output=32\n",
            "I0704 20:04:47.602653 140687442577280 efficientnet_model.py:147] round_filter input=32 output=32\n",
            "I0704 20:04:47.602759 140687442577280 efficientnet_model.py:147] round_filter input=16 output=16\n",
            "I0704 20:04:47.703132 140687442577280 efficientnet_model.py:147] round_filter input=16 output=16\n",
            "I0704 20:04:47.703266 140687442577280 efficientnet_model.py:147] round_filter input=24 output=24\n",
            "I0704 20:04:47.899995 140687442577280 efficientnet_model.py:147] round_filter input=24 output=24\n",
            "I0704 20:04:47.900154 140687442577280 efficientnet_model.py:147] round_filter input=40 output=40\n",
            "I0704 20:04:48.091259 140687442577280 efficientnet_model.py:147] round_filter input=40 output=40\n",
            "I0704 20:04:48.091418 140687442577280 efficientnet_model.py:147] round_filter input=80 output=80\n",
            "I0704 20:04:48.353725 140687442577280 efficientnet_model.py:147] round_filter input=80 output=80\n",
            "I0704 20:04:48.353901 140687442577280 efficientnet_model.py:147] round_filter input=112 output=112\n",
            "I0704 20:04:48.646362 140687442577280 efficientnet_model.py:147] round_filter input=112 output=112\n",
            "I0704 20:04:48.646735 140687442577280 efficientnet_model.py:147] round_filter input=192 output=192\n",
            "I0704 20:04:48.973276 140687442577280 efficientnet_model.py:147] round_filter input=192 output=192\n",
            "I0704 20:04:48.973484 140687442577280 efficientnet_model.py:147] round_filter input=320 output=320\n",
            "I0704 20:04:49.102959 140687442577280 efficientnet_model.py:147] round_filter input=1280 output=1280\n",
            "I0704 20:04:49.128318 140687442577280 efficientnet_model.py:458] Building model efficientnet with params ModelConfig(width_coefficient=1.0, depth_coefficient=1.1, resolution=240, dropout_rate=0.2, blocks=(BlockConfig(input_filters=32, output_filters=16, kernel_size=3, num_repeat=1, expand_ratio=1, strides=(1, 1), se_ratio=0.25, id_skip=True, fused_conv=False, conv_type='depthwise'), BlockConfig(input_filters=16, output_filters=24, kernel_size=3, num_repeat=2, expand_ratio=6, strides=(2, 2), se_ratio=0.25, id_skip=True, fused_conv=False, conv_type='depthwise'), BlockConfig(input_filters=24, output_filters=40, kernel_size=5, num_repeat=2, expand_ratio=6, strides=(2, 2), se_ratio=0.25, id_skip=True, fused_conv=False, conv_type='depthwise'), BlockConfig(input_filters=40, output_filters=80, kernel_size=3, num_repeat=3, expand_ratio=6, strides=(2, 2), se_ratio=0.25, id_skip=True, fused_conv=False, conv_type='depthwise'), BlockConfig(input_filters=80, output_filters=112, kernel_size=5, num_repeat=3, expand_ratio=6, strides=(1, 1), se_ratio=0.25, id_skip=True, fused_conv=False, conv_type='depthwise'), BlockConfig(input_filters=112, output_filters=192, kernel_size=5, num_repeat=4, expand_ratio=6, strides=(2, 2), se_ratio=0.25, id_skip=True, fused_conv=False, conv_type='depthwise'), BlockConfig(input_filters=192, output_filters=320, kernel_size=3, num_repeat=1, expand_ratio=6, strides=(1, 1), se_ratio=0.25, id_skip=True, fused_conv=False, conv_type='depthwise')), stem_base_filters=32, top_base_filters=1280, activation='simple_swish', batch_norm='default', bn_momentum=0.99, bn_epsilon=0.001, weight_decay=5e-06, drop_connect_rate=0.2, depth_divisor=8, min_depth=None, use_se=True, input_channels=3, num_classes=1000, model_name='efficientnet', rescale_input=False, data_format='channels_last', dtype='float32')\n",
            "I0704 20:04:49.183889 140687442577280 ssd_efficientnet_bifpn_feature_extractor.py:143] EfficientDet EfficientNet backbone version: efficientnet-b2\n",
            "I0704 20:04:49.184019 140687442577280 ssd_efficientnet_bifpn_feature_extractor.py:144] EfficientDet BiFPN num filters: 112\n",
            "I0704 20:04:49.184090 140687442577280 ssd_efficientnet_bifpn_feature_extractor.py:146] EfficientDet BiFPN num iterations: 5\n",
            "I0704 20:04:49.185547 140687442577280 efficientnet_model.py:147] round_filter input=32 output=32\n",
            "I0704 20:04:49.198536 140687442577280 efficientnet_model.py:147] round_filter input=32 output=32\n",
            "I0704 20:04:49.198637 140687442577280 efficientnet_model.py:147] round_filter input=16 output=16\n",
            "I0704 20:04:49.314052 140687442577280 efficientnet_model.py:147] round_filter input=16 output=16\n",
            "I0704 20:04:49.314203 140687442577280 efficientnet_model.py:147] round_filter input=24 output=24\n",
            "I0704 20:04:49.630856 140687442577280 efficientnet_model.py:147] round_filter input=24 output=24\n",
            "I0704 20:04:49.631040 140687442577280 efficientnet_model.py:147] round_filter input=40 output=48\n",
            "I0704 20:04:49.826530 140687442577280 efficientnet_model.py:147] round_filter input=40 output=48\n",
            "I0704 20:04:49.826711 140687442577280 efficientnet_model.py:147] round_filter input=80 output=88\n",
            "I0704 20:04:50.089645 140687442577280 efficientnet_model.py:147] round_filter input=80 output=88\n",
            "I0704 20:04:50.089816 140687442577280 efficientnet_model.py:147] round_filter input=112 output=120\n",
            "I0704 20:04:50.347676 140687442577280 efficientnet_model.py:147] round_filter input=112 output=120\n",
            "I0704 20:04:50.347879 140687442577280 efficientnet_model.py:147] round_filter input=192 output=208\n",
            "I0704 20:04:50.683909 140687442577280 efficientnet_model.py:147] round_filter input=192 output=208\n",
            "I0704 20:04:50.684076 140687442577280 efficientnet_model.py:147] round_filter input=320 output=352\n",
            "I0704 20:04:50.818611 140687442577280 efficientnet_model.py:147] round_filter input=1280 output=1408\n",
            "I0704 20:04:50.843609 140687442577280 efficientnet_model.py:458] Building model efficientnet with params ModelConfig(width_coefficient=1.1, depth_coefficient=1.2, resolution=260, dropout_rate=0.3, blocks=(BlockConfig(input_filters=32, output_filters=16, kernel_size=3, num_repeat=1, expand_ratio=1, strides=(1, 1), se_ratio=0.25, id_skip=True, fused_conv=False, conv_type='depthwise'), BlockConfig(input_filters=16, output_filters=24, kernel_size=3, num_repeat=2, expand_ratio=6, strides=(2, 2), se_ratio=0.25, id_skip=True, fused_conv=False, conv_type='depthwise'), BlockConfig(input_filters=24, output_filters=40, kernel_size=5, num_repeat=2, expand_ratio=6, strides=(2, 2), se_ratio=0.25, id_skip=True, fused_conv=False, conv_type='depthwise'), BlockConfig(input_filters=40, output_filters=80, kernel_size=3, num_repeat=3, expand_ratio=6, strides=(2, 2), se_ratio=0.25, id_skip=True, fused_conv=False, conv_type='depthwise'), BlockConfig(input_filters=80, output_filters=112, kernel_size=5, num_repeat=3, expand_ratio=6, strides=(1, 1), se_ratio=0.25, id_skip=True, fused_conv=False, conv_type='depthwise'), BlockConfig(input_filters=112, output_filters=192, kernel_size=5, num_repeat=4, expand_ratio=6, strides=(2, 2), se_ratio=0.25, id_skip=True, fused_conv=False, conv_type='depthwise'), BlockConfig(input_filters=192, output_filters=320, kernel_size=3, num_repeat=1, expand_ratio=6, strides=(1, 1), se_ratio=0.25, id_skip=True, fused_conv=False, conv_type='depthwise')), stem_base_filters=32, top_base_filters=1280, activation='simple_swish', batch_norm='default', bn_momentum=0.99, bn_epsilon=0.001, weight_decay=5e-06, drop_connect_rate=0.2, depth_divisor=8, min_depth=None, use_se=True, input_channels=3, num_classes=1000, model_name='efficientnet', rescale_input=False, data_format='channels_last', dtype='float32')\n",
            "I0704 20:04:50.899042 140687442577280 ssd_efficientnet_bifpn_feature_extractor.py:143] EfficientDet EfficientNet backbone version: efficientnet-b3\n",
            "I0704 20:04:50.899185 140687442577280 ssd_efficientnet_bifpn_feature_extractor.py:144] EfficientDet BiFPN num filters: 160\n",
            "I0704 20:04:50.899261 140687442577280 ssd_efficientnet_bifpn_feature_extractor.py:146] EfficientDet BiFPN num iterations: 6\n",
            "I0704 20:04:50.900749 140687442577280 efficientnet_model.py:147] round_filter input=32 output=40\n",
            "I0704 20:04:50.914008 140687442577280 efficientnet_model.py:147] round_filter input=32 output=40\n",
            "I0704 20:04:50.914126 140687442577280 efficientnet_model.py:147] round_filter input=16 output=24\n",
            "I0704 20:04:51.018681 140687442577280 efficientnet_model.py:147] round_filter input=16 output=24\n",
            "I0704 20:04:51.018850 140687442577280 efficientnet_model.py:147] round_filter input=24 output=32\n",
            "I0704 20:04:51.211323 140687442577280 efficientnet_model.py:147] round_filter input=24 output=32\n",
            "I0704 20:04:51.211489 140687442577280 efficientnet_model.py:147] round_filter input=40 output=48\n",
            "I0704 20:04:51.404463 140687442577280 efficientnet_model.py:147] round_filter input=40 output=48\n",
            "I0704 20:04:51.404619 140687442577280 efficientnet_model.py:147] round_filter input=80 output=96\n",
            "I0704 20:04:51.729101 140687442577280 efficientnet_model.py:147] round_filter input=80 output=96\n",
            "I0704 20:04:51.729276 140687442577280 efficientnet_model.py:147] round_filter input=112 output=136\n",
            "I0704 20:04:52.052946 140687442577280 efficientnet_model.py:147] round_filter input=112 output=136\n",
            "I0704 20:04:52.053111 140687442577280 efficientnet_model.py:147] round_filter input=192 output=232\n",
            "I0704 20:04:52.443658 140687442577280 efficientnet_model.py:147] round_filter input=192 output=232\n",
            "I0704 20:04:52.443825 140687442577280 efficientnet_model.py:147] round_filter input=320 output=384\n",
            "I0704 20:04:52.717909 140687442577280 efficientnet_model.py:147] round_filter input=1280 output=1536\n",
            "I0704 20:04:52.745802 140687442577280 efficientnet_model.py:458] Building model efficientnet with params ModelConfig(width_coefficient=1.2, depth_coefficient=1.4, resolution=300, dropout_rate=0.3, blocks=(BlockConfig(input_filters=32, output_filters=16, kernel_size=3, num_repeat=1, expand_ratio=1, strides=(1, 1), se_ratio=0.25, id_skip=True, fused_conv=False, conv_type='depthwise'), BlockConfig(input_filters=16, output_filters=24, kernel_size=3, num_repeat=2, expand_ratio=6, strides=(2, 2), se_ratio=0.25, id_skip=True, fused_conv=False, conv_type='depthwise'), BlockConfig(input_filters=24, output_filters=40, kernel_size=5, num_repeat=2, expand_ratio=6, strides=(2, 2), se_ratio=0.25, id_skip=True, fused_conv=False, conv_type='depthwise'), BlockConfig(input_filters=40, output_filters=80, kernel_size=3, num_repeat=3, expand_ratio=6, strides=(2, 2), se_ratio=0.25, id_skip=True, fused_conv=False, conv_type='depthwise'), BlockConfig(input_filters=80, output_filters=112, kernel_size=5, num_repeat=3, expand_ratio=6, strides=(1, 1), se_ratio=0.25, id_skip=True, fused_conv=False, conv_type='depthwise'), BlockConfig(input_filters=112, output_filters=192, kernel_size=5, num_repeat=4, expand_ratio=6, strides=(2, 2), se_ratio=0.25, id_skip=True, fused_conv=False, conv_type='depthwise'), BlockConfig(input_filters=192, output_filters=320, kernel_size=3, num_repeat=1, expand_ratio=6, strides=(1, 1), se_ratio=0.25, id_skip=True, fused_conv=False, conv_type='depthwise')), stem_base_filters=32, top_base_filters=1280, activation='simple_swish', batch_norm='default', bn_momentum=0.99, bn_epsilon=0.001, weight_decay=5e-06, drop_connect_rate=0.2, depth_divisor=8, min_depth=None, use_se=True, input_channels=3, num_classes=1000, model_name='efficientnet', rescale_input=False, data_format='channels_last', dtype='float32')\n",
            "I0704 20:04:52.806529 140687442577280 ssd_efficientnet_bifpn_feature_extractor.py:143] EfficientDet EfficientNet backbone version: efficientnet-b4\n",
            "I0704 20:04:52.806671 140687442577280 ssd_efficientnet_bifpn_feature_extractor.py:144] EfficientDet BiFPN num filters: 224\n",
            "I0704 20:04:52.806745 140687442577280 ssd_efficientnet_bifpn_feature_extractor.py:146] EfficientDet BiFPN num iterations: 7\n",
            "I0704 20:04:52.808241 140687442577280 efficientnet_model.py:147] round_filter input=32 output=48\n",
            "I0704 20:04:52.821052 140687442577280 efficientnet_model.py:147] round_filter input=32 output=48\n",
            "I0704 20:04:52.821158 140687442577280 efficientnet_model.py:147] round_filter input=16 output=24\n",
            "I0704 20:04:52.923706 140687442577280 efficientnet_model.py:147] round_filter input=16 output=24\n",
            "I0704 20:04:52.923824 140687442577280 efficientnet_model.py:147] round_filter input=24 output=32\n",
            "I0704 20:04:53.185504 140687442577280 efficientnet_model.py:147] round_filter input=24 output=32\n",
            "I0704 20:04:53.185666 140687442577280 efficientnet_model.py:147] round_filter input=40 output=56\n",
            "I0704 20:04:53.442726 140687442577280 efficientnet_model.py:147] round_filter input=40 output=56\n",
            "I0704 20:04:53.442898 140687442577280 efficientnet_model.py:147] round_filter input=80 output=112\n",
            "I0704 20:04:53.835638 140687442577280 efficientnet_model.py:147] round_filter input=80 output=112\n",
            "I0704 20:04:53.835861 140687442577280 efficientnet_model.py:147] round_filter input=112 output=160\n",
            "I0704 20:04:54.227427 140687442577280 efficientnet_model.py:147] round_filter input=112 output=160\n",
            "I0704 20:04:54.227592 140687442577280 efficientnet_model.py:147] round_filter input=192 output=272\n",
            "I0704 20:04:54.742410 140687442577280 efficientnet_model.py:147] round_filter input=192 output=272\n",
            "I0704 20:04:54.742575 140687442577280 efficientnet_model.py:147] round_filter input=320 output=448\n",
            "I0704 20:04:54.869605 140687442577280 efficientnet_model.py:147] round_filter input=1280 output=1792\n",
            "I0704 20:04:54.894007 140687442577280 efficientnet_model.py:458] Building model efficientnet with params ModelConfig(width_coefficient=1.4, depth_coefficient=1.8, resolution=380, dropout_rate=0.4, blocks=(BlockConfig(input_filters=32, output_filters=16, kernel_size=3, num_repeat=1, expand_ratio=1, strides=(1, 1), se_ratio=0.25, id_skip=True, fused_conv=False, conv_type='depthwise'), BlockConfig(input_filters=16, output_filters=24, kernel_size=3, num_repeat=2, expand_ratio=6, strides=(2, 2), se_ratio=0.25, id_skip=True, fused_conv=False, conv_type='depthwise'), BlockConfig(input_filters=24, output_filters=40, kernel_size=5, num_repeat=2, expand_ratio=6, strides=(2, 2), se_ratio=0.25, id_skip=True, fused_conv=False, conv_type='depthwise'), BlockConfig(input_filters=40, output_filters=80, kernel_size=3, num_repeat=3, expand_ratio=6, strides=(2, 2), se_ratio=0.25, id_skip=True, fused_conv=False, conv_type='depthwise'), BlockConfig(input_filters=80, output_filters=112, kernel_size=5, num_repeat=3, expand_ratio=6, strides=(1, 1), se_ratio=0.25, id_skip=True, fused_conv=False, conv_type='depthwise'), BlockConfig(input_filters=112, output_filters=192, kernel_size=5, num_repeat=4, expand_ratio=6, strides=(2, 2), se_ratio=0.25, id_skip=True, fused_conv=False, conv_type='depthwise'), BlockConfig(input_filters=192, output_filters=320, kernel_size=3, num_repeat=1, expand_ratio=6, strides=(1, 1), se_ratio=0.25, id_skip=True, fused_conv=False, conv_type='depthwise')), stem_base_filters=32, top_base_filters=1280, activation='simple_swish', batch_norm='default', bn_momentum=0.99, bn_epsilon=0.001, weight_decay=5e-06, drop_connect_rate=0.2, depth_divisor=8, min_depth=None, use_se=True, input_channels=3, num_classes=1000, model_name='efficientnet', rescale_input=False, data_format='channels_last', dtype='float32')\n",
            "I0704 20:04:54.964632 140687442577280 ssd_efficientnet_bifpn_feature_extractor.py:143] EfficientDet EfficientNet backbone version: efficientnet-b5\n",
            "I0704 20:04:54.964772 140687442577280 ssd_efficientnet_bifpn_feature_extractor.py:144] EfficientDet BiFPN num filters: 288\n",
            "I0704 20:04:54.964856 140687442577280 ssd_efficientnet_bifpn_feature_extractor.py:146] EfficientDet BiFPN num iterations: 7\n",
            "I0704 20:04:54.966302 140687442577280 efficientnet_model.py:147] round_filter input=32 output=48\n",
            "I0704 20:04:54.979713 140687442577280 efficientnet_model.py:147] round_filter input=32 output=48\n",
            "I0704 20:04:54.979864 140687442577280 efficientnet_model.py:147] round_filter input=16 output=24\n",
            "I0704 20:04:55.134600 140687442577280 efficientnet_model.py:147] round_filter input=16 output=24\n",
            "I0704 20:04:55.134739 140687442577280 efficientnet_model.py:147] round_filter input=24 output=40\n",
            "I0704 20:04:55.456941 140687442577280 efficientnet_model.py:147] round_filter input=24 output=40\n",
            "I0704 20:04:55.457107 140687442577280 efficientnet_model.py:147] round_filter input=40 output=64\n",
            "I0704 20:04:55.959160 140687442577280 efficientnet_model.py:147] round_filter input=40 output=64\n",
            "I0704 20:04:55.959358 140687442577280 efficientnet_model.py:147] round_filter input=80 output=128\n",
            "I0704 20:04:56.411954 140687442577280 efficientnet_model.py:147] round_filter input=80 output=128\n",
            "I0704 20:04:56.412120 140687442577280 efficientnet_model.py:147] round_filter input=112 output=176\n",
            "I0704 20:04:56.870884 140687442577280 efficientnet_model.py:147] round_filter input=112 output=176\n",
            "I0704 20:04:56.871063 140687442577280 efficientnet_model.py:147] round_filter input=192 output=304\n",
            "I0704 20:04:57.460987 140687442577280 efficientnet_model.py:147] round_filter input=192 output=304\n",
            "I0704 20:04:57.461163 140687442577280 efficientnet_model.py:147] round_filter input=320 output=512\n",
            "I0704 20:04:57.655324 140687442577280 efficientnet_model.py:147] round_filter input=1280 output=2048\n",
            "I0704 20:04:57.684762 140687442577280 efficientnet_model.py:458] Building model efficientnet with params ModelConfig(width_coefficient=1.6, depth_coefficient=2.2, resolution=456, dropout_rate=0.4, blocks=(BlockConfig(input_filters=32, output_filters=16, kernel_size=3, num_repeat=1, expand_ratio=1, strides=(1, 1), se_ratio=0.25, id_skip=True, fused_conv=False, conv_type='depthwise'), BlockConfig(input_filters=16, output_filters=24, kernel_size=3, num_repeat=2, expand_ratio=6, strides=(2, 2), se_ratio=0.25, id_skip=True, fused_conv=False, conv_type='depthwise'), BlockConfig(input_filters=24, output_filters=40, kernel_size=5, num_repeat=2, expand_ratio=6, strides=(2, 2), se_ratio=0.25, id_skip=True, fused_conv=False, conv_type='depthwise'), BlockConfig(input_filters=40, output_filters=80, kernel_size=3, num_repeat=3, expand_ratio=6, strides=(2, 2), se_ratio=0.25, id_skip=True, fused_conv=False, conv_type='depthwise'), BlockConfig(input_filters=80, output_filters=112, kernel_size=5, num_repeat=3, expand_ratio=6, strides=(1, 1), se_ratio=0.25, id_skip=True, fused_conv=False, conv_type='depthwise'), BlockConfig(input_filters=112, output_filters=192, kernel_size=5, num_repeat=4, expand_ratio=6, strides=(2, 2), se_ratio=0.25, id_skip=True, fused_conv=False, conv_type='depthwise'), BlockConfig(input_filters=192, output_filters=320, kernel_size=3, num_repeat=1, expand_ratio=6, strides=(1, 1), se_ratio=0.25, id_skip=True, fused_conv=False, conv_type='depthwise')), stem_base_filters=32, top_base_filters=1280, activation='simple_swish', batch_norm='default', bn_momentum=0.99, bn_epsilon=0.001, weight_decay=5e-06, drop_connect_rate=0.2, depth_divisor=8, min_depth=None, use_se=True, input_channels=3, num_classes=1000, model_name='efficientnet', rescale_input=False, data_format='channels_last', dtype='float32')\n",
            "I0704 20:04:57.767287 140687442577280 ssd_efficientnet_bifpn_feature_extractor.py:143] EfficientDet EfficientNet backbone version: efficientnet-b6\n",
            "I0704 20:04:57.767451 140687442577280 ssd_efficientnet_bifpn_feature_extractor.py:144] EfficientDet BiFPN num filters: 384\n",
            "I0704 20:04:57.767525 140687442577280 ssd_efficientnet_bifpn_feature_extractor.py:146] EfficientDet BiFPN num iterations: 8\n",
            "I0704 20:04:57.769005 140687442577280 efficientnet_model.py:147] round_filter input=32 output=56\n",
            "I0704 20:04:57.782036 140687442577280 efficientnet_model.py:147] round_filter input=32 output=56\n",
            "I0704 20:04:57.782159 140687442577280 efficientnet_model.py:147] round_filter input=16 output=32\n",
            "I0704 20:04:57.936083 140687442577280 efficientnet_model.py:147] round_filter input=16 output=32\n",
            "I0704 20:04:57.936226 140687442577280 efficientnet_model.py:147] round_filter input=24 output=40\n",
            "I0704 20:04:58.318562 140687442577280 efficientnet_model.py:147] round_filter input=24 output=40\n",
            "I0704 20:04:58.318726 140687442577280 efficientnet_model.py:147] round_filter input=40 output=72\n",
            "I0704 20:04:58.704109 140687442577280 efficientnet_model.py:147] round_filter input=40 output=72\n",
            "I0704 20:04:58.704283 140687442577280 efficientnet_model.py:147] round_filter input=80 output=144\n",
            "I0704 20:04:59.218591 140687442577280 efficientnet_model.py:147] round_filter input=80 output=144\n",
            "I0704 20:04:59.218759 140687442577280 efficientnet_model.py:147] round_filter input=112 output=200\n",
            "I0704 20:04:59.923068 140687442577280 efficientnet_model.py:147] round_filter input=112 output=200\n",
            "I0704 20:04:59.923242 140687442577280 efficientnet_model.py:147] round_filter input=192 output=344\n",
            "I0704 20:05:00.636411 140687442577280 efficientnet_model.py:147] round_filter input=192 output=344\n",
            "I0704 20:05:00.636579 140687442577280 efficientnet_model.py:147] round_filter input=320 output=576\n",
            "I0704 20:05:00.829957 140687442577280 efficientnet_model.py:147] round_filter input=1280 output=2304\n",
            "I0704 20:05:00.853736 140687442577280 efficientnet_model.py:458] Building model efficientnet with params ModelConfig(width_coefficient=1.8, depth_coefficient=2.6, resolution=528, dropout_rate=0.5, blocks=(BlockConfig(input_filters=32, output_filters=16, kernel_size=3, num_repeat=1, expand_ratio=1, strides=(1, 1), se_ratio=0.25, id_skip=True, fused_conv=False, conv_type='depthwise'), BlockConfig(input_filters=16, output_filters=24, kernel_size=3, num_repeat=2, expand_ratio=6, strides=(2, 2), se_ratio=0.25, id_skip=True, fused_conv=False, conv_type='depthwise'), BlockConfig(input_filters=24, output_filters=40, kernel_size=5, num_repeat=2, expand_ratio=6, strides=(2, 2), se_ratio=0.25, id_skip=True, fused_conv=False, conv_type='depthwise'), BlockConfig(input_filters=40, output_filters=80, kernel_size=3, num_repeat=3, expand_ratio=6, strides=(2, 2), se_ratio=0.25, id_skip=True, fused_conv=False, conv_type='depthwise'), BlockConfig(input_filters=80, output_filters=112, kernel_size=5, num_repeat=3, expand_ratio=6, strides=(1, 1), se_ratio=0.25, id_skip=True, fused_conv=False, conv_type='depthwise'), BlockConfig(input_filters=112, output_filters=192, kernel_size=5, num_repeat=4, expand_ratio=6, strides=(2, 2), se_ratio=0.25, id_skip=True, fused_conv=False, conv_type='depthwise'), BlockConfig(input_filters=192, output_filters=320, kernel_size=3, num_repeat=1, expand_ratio=6, strides=(1, 1), se_ratio=0.25, id_skip=True, fused_conv=False, conv_type='depthwise')), stem_base_filters=32, top_base_filters=1280, activation='simple_swish', batch_norm='default', bn_momentum=0.99, bn_epsilon=0.001, weight_decay=5e-06, drop_connect_rate=0.2, depth_divisor=8, min_depth=None, use_se=True, input_channels=3, num_classes=1000, model_name='efficientnet', rescale_input=False, data_format='channels_last', dtype='float32')\n",
            "I0704 20:05:00.951725 140687442577280 ssd_efficientnet_bifpn_feature_extractor.py:143] EfficientDet EfficientNet backbone version: efficientnet-b7\n",
            "I0704 20:05:00.951870 140687442577280 ssd_efficientnet_bifpn_feature_extractor.py:144] EfficientDet BiFPN num filters: 384\n",
            "I0704 20:05:00.951948 140687442577280 ssd_efficientnet_bifpn_feature_extractor.py:146] EfficientDet BiFPN num iterations: 8\n",
            "I0704 20:05:00.953462 140687442577280 efficientnet_model.py:147] round_filter input=32 output=64\n",
            "I0704 20:05:00.966543 140687442577280 efficientnet_model.py:147] round_filter input=32 output=64\n",
            "I0704 20:05:00.966653 140687442577280 efficientnet_model.py:147] round_filter input=16 output=32\n",
            "I0704 20:05:01.171752 140687442577280 efficientnet_model.py:147] round_filter input=16 output=32\n",
            "I0704 20:05:01.171918 140687442577280 efficientnet_model.py:147] round_filter input=24 output=48\n",
            "I0704 20:05:01.632329 140687442577280 efficientnet_model.py:147] round_filter input=24 output=48\n",
            "I0704 20:05:01.632520 140687442577280 efficientnet_model.py:147] round_filter input=40 output=80\n",
            "I0704 20:05:02.082927 140687442577280 efficientnet_model.py:147] round_filter input=40 output=80\n",
            "I0704 20:05:02.083115 140687442577280 efficientnet_model.py:147] round_filter input=80 output=160\n",
            "I0704 20:05:02.739180 140687442577280 efficientnet_model.py:147] round_filter input=80 output=160\n",
            "I0704 20:05:02.739366 140687442577280 efficientnet_model.py:147] round_filter input=112 output=224\n",
            "I0704 20:05:03.605110 140687442577280 efficientnet_model.py:147] round_filter input=112 output=224\n",
            "I0704 20:05:03.605300 140687442577280 efficientnet_model.py:147] round_filter input=192 output=384\n",
            "I0704 20:05:04.469811 140687442577280 efficientnet_model.py:147] round_filter input=192 output=384\n",
            "I0704 20:05:04.469982 140687442577280 efficientnet_model.py:147] round_filter input=320 output=640\n",
            "I0704 20:05:04.735417 140687442577280 efficientnet_model.py:147] round_filter input=1280 output=2560\n",
            "I0704 20:05:04.768787 140687442577280 efficientnet_model.py:458] Building model efficientnet with params ModelConfig(width_coefficient=2.0, depth_coefficient=3.1, resolution=600, dropout_rate=0.5, blocks=(BlockConfig(input_filters=32, output_filters=16, kernel_size=3, num_repeat=1, expand_ratio=1, strides=(1, 1), se_ratio=0.25, id_skip=True, fused_conv=False, conv_type='depthwise'), BlockConfig(input_filters=16, output_filters=24, kernel_size=3, num_repeat=2, expand_ratio=6, strides=(2, 2), se_ratio=0.25, id_skip=True, fused_conv=False, conv_type='depthwise'), BlockConfig(input_filters=24, output_filters=40, kernel_size=5, num_repeat=2, expand_ratio=6, strides=(2, 2), se_ratio=0.25, id_skip=True, fused_conv=False, conv_type='depthwise'), BlockConfig(input_filters=40, output_filters=80, kernel_size=3, num_repeat=3, expand_ratio=6, strides=(2, 2), se_ratio=0.25, id_skip=True, fused_conv=False, conv_type='depthwise'), BlockConfig(input_filters=80, output_filters=112, kernel_size=5, num_repeat=3, expand_ratio=6, strides=(1, 1), se_ratio=0.25, id_skip=True, fused_conv=False, conv_type='depthwise'), BlockConfig(input_filters=112, output_filters=192, kernel_size=5, num_repeat=4, expand_ratio=6, strides=(2, 2), se_ratio=0.25, id_skip=True, fused_conv=False, conv_type='depthwise'), BlockConfig(input_filters=192, output_filters=320, kernel_size=3, num_repeat=1, expand_ratio=6, strides=(1, 1), se_ratio=0.25, id_skip=True, fused_conv=False, conv_type='depthwise')), stem_base_filters=32, top_base_filters=1280, activation='simple_swish', batch_norm='default', bn_momentum=0.99, bn_epsilon=0.001, weight_decay=5e-06, drop_connect_rate=0.2, depth_divisor=8, min_depth=None, use_se=True, input_channels=3, num_classes=1000, model_name='efficientnet', rescale_input=False, data_format='channels_last', dtype='float32')\n",
            "INFO:tensorflow:time(__main__.ModelBuilderTF2Test.test_create_ssd_models_from_config): 18.7s\n",
            "I0704 20:05:04.879516 140687442577280 test_util.py:2103] time(__main__.ModelBuilderTF2Test.test_create_ssd_models_from_config): 18.7s\n",
            "[       OK ] ModelBuilderTF2Test.test_create_ssd_models_from_config\n",
            "[ RUN      ] ModelBuilderTF2Test.test_invalid_faster_rcnn_batchnorm_update\n",
            "INFO:tensorflow:time(__main__.ModelBuilderTF2Test.test_invalid_faster_rcnn_batchnorm_update): 0.0s\n",
            "I0704 20:05:04.885764 140687442577280 test_util.py:2103] time(__main__.ModelBuilderTF2Test.test_invalid_faster_rcnn_batchnorm_update): 0.0s\n",
            "[       OK ] ModelBuilderTF2Test.test_invalid_faster_rcnn_batchnorm_update\n",
            "[ RUN      ] ModelBuilderTF2Test.test_invalid_first_stage_nms_iou_threshold\n",
            "INFO:tensorflow:time(__main__.ModelBuilderTF2Test.test_invalid_first_stage_nms_iou_threshold): 0.0s\n",
            "I0704 20:05:04.887316 140687442577280 test_util.py:2103] time(__main__.ModelBuilderTF2Test.test_invalid_first_stage_nms_iou_threshold): 0.0s\n",
            "[       OK ] ModelBuilderTF2Test.test_invalid_first_stage_nms_iou_threshold\n",
            "[ RUN      ] ModelBuilderTF2Test.test_invalid_model_config_proto\n",
            "INFO:tensorflow:time(__main__.ModelBuilderTF2Test.test_invalid_model_config_proto): 0.0s\n",
            "I0704 20:05:04.887841 140687442577280 test_util.py:2103] time(__main__.ModelBuilderTF2Test.test_invalid_model_config_proto): 0.0s\n",
            "[       OK ] ModelBuilderTF2Test.test_invalid_model_config_proto\n",
            "[ RUN      ] ModelBuilderTF2Test.test_invalid_second_stage_batch_size\n",
            "INFO:tensorflow:time(__main__.ModelBuilderTF2Test.test_invalid_second_stage_batch_size): 0.0s\n",
            "I0704 20:05:04.889491 140687442577280 test_util.py:2103] time(__main__.ModelBuilderTF2Test.test_invalid_second_stage_batch_size): 0.0s\n",
            "[       OK ] ModelBuilderTF2Test.test_invalid_second_stage_batch_size\n",
            "[ RUN      ] ModelBuilderTF2Test.test_session\n",
            "[  SKIPPED ] ModelBuilderTF2Test.test_session\n",
            "[ RUN      ] ModelBuilderTF2Test.test_unknown_faster_rcnn_feature_extractor\n",
            "INFO:tensorflow:time(__main__.ModelBuilderTF2Test.test_unknown_faster_rcnn_feature_extractor): 0.0s\n",
            "I0704 20:05:04.890768 140687442577280 test_util.py:2103] time(__main__.ModelBuilderTF2Test.test_unknown_faster_rcnn_feature_extractor): 0.0s\n",
            "[       OK ] ModelBuilderTF2Test.test_unknown_faster_rcnn_feature_extractor\n",
            "[ RUN      ] ModelBuilderTF2Test.test_unknown_meta_architecture\n",
            "INFO:tensorflow:time(__main__.ModelBuilderTF2Test.test_unknown_meta_architecture): 0.0s\n",
            "I0704 20:05:04.891191 140687442577280 test_util.py:2103] time(__main__.ModelBuilderTF2Test.test_unknown_meta_architecture): 0.0s\n",
            "[       OK ] ModelBuilderTF2Test.test_unknown_meta_architecture\n",
            "[ RUN      ] ModelBuilderTF2Test.test_unknown_ssd_feature_extractor\n",
            "INFO:tensorflow:time(__main__.ModelBuilderTF2Test.test_unknown_ssd_feature_extractor): 0.0s\n",
            "I0704 20:05:04.892268 140687442577280 test_util.py:2103] time(__main__.ModelBuilderTF2Test.test_unknown_ssd_feature_extractor): 0.0s\n",
            "[       OK ] ModelBuilderTF2Test.test_unknown_ssd_feature_extractor\n",
            "----------------------------------------------------------------------\n",
            "Ran 24 tests in 27.625s\n",
            "\n",
            "OK (skipped=1)\n"
          ],
          "name": "stdout"
        }
      ]
    },
    {
      "cell_type": "markdown",
      "metadata": {
        "id": "RdoYhX_GIDor"
      },
      "source": [
        "IF any error comes out"
      ]
    },
    {
      "cell_type": "code",
      "metadata": {
        "collapsed": true,
        "id": "XzQYq1MqEwrE",
        "outputId": "ec456177-4cda-450e-c0a8-9ff3c7134413"
      },
      "source": [
        "!pip install tensorflow --upgrade\n",
        "!pip uninstall protobuf matplotlib -y\n",
        "!pip install protobuf matplotlib==3.2"
      ],
      "execution_count": null,
      "outputs": [
        {
          "output_type": "stream",
          "text": [
            "Requirement already satisfied: tensorflow in d:\\youtube\\od\\tfodcourse\\tfod\\lib\\site-packages\\tensorflow-2.5.0rc0-py3.7-win-amd64.egg (2.5.0rc0)\n",
            "Requirement already satisfied: absl-py~=0.10 in d:\\youtube\\od\\tfodcourse\\tfod\\lib\\site-packages (from tensorflow) (0.12.0)\n",
            "Collecting astunparse~=1.6.3\n",
            "  Using cached astunparse-1.6.3-py2.py3-none-any.whl (12 kB)\n",
            "Collecting flatbuffers~=1.12.0\n",
            "  Using cached flatbuffers-1.12-py2.py3-none-any.whl (15 kB)\n",
            "Collecting gast==0.4.0\n",
            "  Using cached gast-0.4.0-py3-none-any.whl (9.8 kB)\n",
            "Collecting google-pasta~=0.2\n",
            "  Using cached google_pasta-0.2.0-py3-none-any.whl (57 kB)\n",
            "Collecting grpcio~=1.34.0\n",
            "  Using cached grpcio-1.34.1-cp37-cp37m-win_amd64.whl (2.9 MB)\n",
            "Collecting h5py~=3.1.0\n",
            "  Using cached h5py-3.1.0-cp37-cp37m-win_amd64.whl (2.7 MB)\n",
            "Collecting keras-nightly~=2.5.0.dev\n",
            "  Using cached keras_nightly-2.5.0.dev2021032900-py2.py3-none-any.whl (1.2 MB)\n",
            "Collecting keras-preprocessing~=1.1.2\n",
            "  Using cached Keras_Preprocessing-1.1.2-py2.py3-none-any.whl (42 kB)\n",
            "Requirement already satisfied: numpy~=1.19.2 in d:\\youtube\\od\\tfodcourse\\tfod\\lib\\site-packages (from tensorflow) (1.19.5)\n",
            "Collecting opt-einsum~=3.3.0\n",
            "  Using cached opt_einsum-3.3.0-py3-none-any.whl (65 kB)\n",
            "Requirement already satisfied: protobuf>=3.9.2 in d:\\youtube\\od\\tfodcourse\\tfod\\lib\\site-packages (from tensorflow) (3.15.7)\n",
            "Requirement already satisfied: six~=1.15.0 in d:\\youtube\\od\\tfodcourse\\tfod\\lib\\site-packages (from tensorflow) (1.15.0)\n",
            "Collecting tensorboard~=2.4\n",
            "  Using cached tensorboard-2.4.1-py3-none-any.whl (10.6 MB)\n",
            "Collecting termcolor~=1.1.0\n",
            "  Using cached termcolor-1.1.0-py3-none-any.whl\n",
            "Collecting tf-estimator-nightly==2.5.0.dev2021032501\n",
            "  Using cached tf_estimator_nightly-2.5.0.dev2021032501-py2.py3-none-any.whl (462 kB)\n",
            "Requirement already satisfied: typing-extensions~=3.7.4 in d:\\youtube\\od\\tfodcourse\\tfod\\lib\\site-packages\\typing_extensions-3.7.4.3-py3.7.egg (from tensorflow) (3.7.4.3)\n",
            "Requirement already satisfied: wheel~=0.35 in d:\\youtube\\od\\tfodcourse\\tfod\\lib\\site-packages (from tensorflow) (0.36.2)\n",
            "Collecting wrapt~=1.12.1\n",
            "  Using cached wrapt-1.12.1-cp37-cp37m-win_amd64.whl\n",
            "Collecting cached-property\n",
            "  Using cached cached_property-1.5.2-py2.py3-none-any.whl (7.6 kB)\n",
            "Requirement already satisfied: google-auth<2,>=1.6.3 in d:\\youtube\\od\\tfodcourse\\tfod\\lib\\site-packages (from tensorboard~=2.4->tensorflow) (1.28.0)\n",
            "Requirement already satisfied: tensorboard-plugin-wit>=1.6.0 in d:\\youtube\\od\\tfodcourse\\tfod\\lib\\site-packages (from tensorboard~=2.4->tensorflow) (1.8.0)\n",
            "Collecting google-auth-oauthlib<0.5,>=0.4.1\n",
            "  Using cached google_auth_oauthlib-0.4.4-py2.py3-none-any.whl (18 kB)\n",
            "Requirement already satisfied: requests<3,>=2.21.0 in d:\\youtube\\od\\tfodcourse\\tfod\\lib\\site-packages\\requests-2.25.1-py3.7.egg (from tensorboard~=2.4->tensorflow) (2.25.1)\n",
            "Collecting markdown>=2.6.8\n",
            "  Using cached Markdown-3.3.4-py3-none-any.whl (97 kB)\n",
            "Requirement already satisfied: setuptools>=41.0.0 in d:\\youtube\\od\\tfodcourse\\tfod\\lib\\site-packages (from tensorboard~=2.4->tensorflow) (54.2.0)\n",
            "Requirement already satisfied: werkzeug>=0.11.15 in d:\\youtube\\od\\tfodcourse\\tfod\\lib\\site-packages (from tensorboard~=2.4->tensorflow) (1.0.1)\n",
            "Requirement already satisfied: rsa<5,>=3.1.4 in d:\\youtube\\od\\tfodcourse\\tfod\\lib\\site-packages (from google-auth<2,>=1.6.3->tensorboard~=2.4->tensorflow) (4.7.2)\n",
            "Requirement already satisfied: pyasn1-modules>=0.2.1 in d:\\youtube\\od\\tfodcourse\\tfod\\lib\\site-packages (from google-auth<2,>=1.6.3->tensorboard~=2.4->tensorflow) (0.2.8)\n",
            "Requirement already satisfied: cachetools<5.0,>=2.0.0 in d:\\youtube\\od\\tfodcourse\\tfod\\lib\\site-packages (from google-auth<2,>=1.6.3->tensorboard~=2.4->tensorflow) (4.2.1)\n",
            "Requirement already satisfied: requests-oauthlib>=0.7.0 in d:\\youtube\\od\\tfodcourse\\tfod\\lib\\site-packages (from google-auth-oauthlib<0.5,>=0.4.1->tensorboard~=2.4->tensorflow) (1.3.0)\n",
            "Requirement already satisfied: importlib-metadata in d:\\youtube\\od\\tfodcourse\\tfod\\lib\\site-packages (from markdown>=2.6.8->tensorboard~=2.4->tensorflow) (3.10.0)\n",
            "Requirement already satisfied: pyasn1<0.5.0,>=0.4.6 in d:\\youtube\\od\\tfodcourse\\tfod\\lib\\site-packages (from pyasn1-modules>=0.2.1->google-auth<2,>=1.6.3->tensorboard~=2.4->tensorflow) (0.4.8)\n",
            "Requirement already satisfied: certifi>=2017.4.17 in d:\\youtube\\od\\tfodcourse\\tfod\\lib\\site-packages (from requests<3,>=2.21.0->tensorboard~=2.4->tensorflow) (2020.12.5)\n",
            "Requirement already satisfied: chardet<5,>=3.0.2 in d:\\youtube\\od\\tfodcourse\\tfod\\lib\\site-packages (from requests<3,>=2.21.0->tensorboard~=2.4->tensorflow) (4.0.0)\n",
            "Requirement already satisfied: idna<3,>=2.5 in d:\\youtube\\od\\tfodcourse\\tfod\\lib\\site-packages (from requests<3,>=2.21.0->tensorboard~=2.4->tensorflow) (2.10)\n",
            "Requirement already satisfied: urllib3<1.27,>=1.21.1 in d:\\youtube\\od\\tfodcourse\\tfod\\lib\\site-packages (from requests<3,>=2.21.0->tensorboard~=2.4->tensorflow) (1.26.4)\n",
            "Requirement already satisfied: oauthlib>=3.0.0 in d:\\youtube\\od\\tfodcourse\\tfod\\lib\\site-packages (from requests-oauthlib>=0.7.0->google-auth-oauthlib<0.5,>=0.4.1->tensorboard~=2.4->tensorflow) (3.1.0)\n",
            "Requirement already satisfied: zipp>=0.5 in d:\\youtube\\od\\tfodcourse\\tfod\\lib\\site-packages (from importlib-metadata->markdown>=2.6.8->tensorboard~=2.4->tensorflow) (3.4.1)\n",
            "Installing collected packages: markdown, grpcio, google-auth-oauthlib, cached-property, wrapt, tf-estimator-nightly, termcolor, tensorboard, opt-einsum, keras-preprocessing, keras-nightly, h5py, google-pasta, gast, flatbuffers, astunparse\n",
            "Successfully installed astunparse-1.6.3 cached-property-1.5.2 flatbuffers-1.12 gast-0.4.0 google-auth-oauthlib-0.4.4 google-pasta-0.2.0 grpcio-1.34.1 h5py-3.1.0 keras-nightly-2.5.0.dev2021032900 keras-preprocessing-1.1.2 markdown-3.3.4 opt-einsum-3.3.0 tensorboard-2.4.1 termcolor-1.1.0 tf-estimator-nightly-2.5.0.dev2021032501 wrapt-1.12.1\n"
          ],
          "name": "stdout"
        },
        {
          "output_type": "stream",
          "text": [
            "ERROR: pip's dependency resolver does not currently take into account all the packages that are installed. This behaviour is the source of the following dependency conflicts.\n",
            "apache-beam 2.28.0 requires crcmod<2.0,>=1.7, which is not installed.\n",
            "apache-beam 2.28.0 requires dill<0.3.2,>=0.3.1.1, which is not installed.\n",
            "apache-beam 2.28.0 requires fastavro<2,>=0.21.4, which is not installed.\n",
            "apache-beam 2.28.0 requires future<1.0.0,>=0.18.2, which is not installed.\n",
            "apache-beam 2.28.0 requires hdfs<3.0.0,>=2.1.0, which is not installed.\n",
            "apache-beam 2.28.0 requires httplib2<0.18.0,>=0.8, which is not installed.\n",
            "apache-beam 2.28.0 requires mock<3.0.0,>=1.0.1, which is not installed.\n",
            "tensorflow-datasets 4.2.0 requires attrs>=18.1.0, which is not installed.\n",
            "tensorflow-datasets 4.2.0 requires dill, which is not installed.\n",
            "tensorflow-datasets 4.2.0 requires future, which is not installed.\n",
            "tensorflow-datasets 4.2.0 requires importlib-resources, which is not installed.\n",
            "tensorflow-datasets 4.2.0 requires promise, which is not installed.\n",
            "tensorflow-datasets 4.2.0 requires tensorflow-metadata, which is not installed.\n",
            "tensorflow-datasets 4.2.0 requires tqdm, which is not installed.\n",
            "apache-beam 2.28.0 requires avro-python3!=1.9.2,<1.10.0,>=1.8.1, but you have avro-python3 1.10.2 which is incompatible.\n"
          ],
          "name": "stderr"
        }
      ]
    },
    {
      "cell_type": "code",
      "metadata": {
        "id": "kJcFyuUkEwrF"
      },
      "source": [
        "import object_detection"
      ],
      "execution_count": 11,
      "outputs": []
    },
    {
      "cell_type": "code",
      "metadata": {
        "scrolled": true,
        "id": "IXfOOORfEwrF"
      },
      "source": [
        "!pip list"
      ],
      "execution_count": null,
      "outputs": []
    },
    {
      "cell_type": "code",
      "metadata": {
        "colab": {
          "base_uri": "https://localhost:8080/"
        },
        "id": "csofht2npfDE",
        "outputId": "6ea290e8-3966-4769-8ef5-b7fedd9ab93c"
      },
      "source": [
        "if os.name =='posix':\n",
        "    !wget {PRETRAINED_MODEL_URL}\n",
        "    !mv {PRETRAINED_MODEL_NAME+'.tar.gz'} {paths['PRETRAINED_MODEL_PATH']}\n",
        "    !cd {paths['PRETRAINED_MODEL_PATH']} && tar -zxvf {PRETRAINED_MODEL_NAME+'.tar.gz'}\n",
        "if os.name == 'nt':\n",
        "    wget.download(PRETRAINED_MODEL_URL)\n",
        "    !move {PRETRAINED_MODEL_NAME+'.tar.gz'} {paths['PRETRAINED_MODEL_PATH']}\n",
        "    !cd {paths['PRETRAINED_MODEL_PATH']} && tar -zxvf {PRETRAINED_MODEL_NAME+'.tar.gz'}"
      ],
      "execution_count": 12,
      "outputs": [
        {
          "output_type": "stream",
          "text": [
            "--2021-07-04 20:07:17--  http://download.tensorflow.org/models/object_detection/tf2/20200711/ssd_mobilenet_v2_fpnlite_320x320_coco17_tpu-8.tar.gz\n",
            "Resolving download.tensorflow.org (download.tensorflow.org)... 142.250.65.80, 2607:f8b0:4004:832::2010\n",
            "Connecting to download.tensorflow.org (download.tensorflow.org)|142.250.65.80|:80... connected.\n",
            "HTTP request sent, awaiting response... 200 OK\n",
            "Length: 20515344 (20M) [application/x-tar]\n",
            "Saving to: ‘ssd_mobilenet_v2_fpnlite_320x320_coco17_tpu-8.tar.gz’\n",
            "\n",
            "\r          ssd_mobil   0%[                    ]       0  --.-KB/s               \rssd_mobilenet_v2_fp 100%[===================>]  19.56M  --.-KB/s    in 0.1s    \n",
            "\n",
            "2021-07-04 20:07:17 (193 MB/s) - ‘ssd_mobilenet_v2_fpnlite_320x320_coco17_tpu-8.tar.gz’ saved [20515344/20515344]\n",
            "\n",
            "ssd_mobilenet_v2_fpnlite_320x320_coco17_tpu-8/\n",
            "ssd_mobilenet_v2_fpnlite_320x320_coco17_tpu-8/checkpoint/\n",
            "ssd_mobilenet_v2_fpnlite_320x320_coco17_tpu-8/checkpoint/ckpt-0.data-00000-of-00001\n",
            "ssd_mobilenet_v2_fpnlite_320x320_coco17_tpu-8/checkpoint/checkpoint\n",
            "ssd_mobilenet_v2_fpnlite_320x320_coco17_tpu-8/checkpoint/ckpt-0.index\n",
            "ssd_mobilenet_v2_fpnlite_320x320_coco17_tpu-8/pipeline.config\n",
            "ssd_mobilenet_v2_fpnlite_320x320_coco17_tpu-8/saved_model/\n",
            "ssd_mobilenet_v2_fpnlite_320x320_coco17_tpu-8/saved_model/saved_model.pb\n",
            "ssd_mobilenet_v2_fpnlite_320x320_coco17_tpu-8/saved_model/variables/\n",
            "ssd_mobilenet_v2_fpnlite_320x320_coco17_tpu-8/saved_model/variables/variables.data-00000-of-00001\n",
            "ssd_mobilenet_v2_fpnlite_320x320_coco17_tpu-8/saved_model/variables/variables.index\n"
          ],
          "name": "stdout"
        }
      ]
    },
    {
      "cell_type": "markdown",
      "metadata": {
        "id": "M5KJTnkfpfDC"
      },
      "source": [
        "# 2. labelling class"
      ]
    },
    {
      "cell_type": "code",
      "metadata": {
        "id": "p1BVDWo7pfDC"
      },
      "source": [
        "labels = [{'name':'apple', 'id':1}, {'name':'banana', 'id':2}, {'name':'mixed', 'id':3}, {'name':'orange', 'id':4}]\n",
        "\n",
        "with open(files['LABELMAP'], 'w') as f:\n",
        "    for label in labels:\n",
        "        f.write('item { \\n')\n",
        "        f.write('\\tname:\\'{}\\'\\n'.format(label['name']))\n",
        "        f.write('\\tid:{}\\n'.format(label['id']))\n",
        "        f.write('}\\n')"
      ],
      "execution_count": 13,
      "outputs": []
    },
    {
      "cell_type": "markdown",
      "metadata": {
        "id": "C88zyVELpfDC"
      },
      "source": [
        "# 3. Create TF records"
      ]
    },
    {
      "cell_type": "code",
      "metadata": {
        "id": "kvf5WccwrFGq"
      },
      "source": [
        "# OPTIONAL IF RUNNING ON COLAB\n",
        "ARCHIVE_FILES = os.path.join(paths['IMAGE_PATH'], 'archive.tar.gz')\n",
        "if os.path.exists(ARCHIVE_FILES):\n",
        "  !tar -zxvf {ARCHIVE_FILES}"
      ],
      "execution_count": 14,
      "outputs": []
    },
    {
      "cell_type": "code",
      "metadata": {
        "colab": {
          "base_uri": "https://localhost:8080/"
        },
        "id": "KWpb_BVUpfDD",
        "outputId": "1855ddd0-646e-48bb-bde0-43d1d227b2a4"
      },
      "source": [
        "if not os.path.exists(files['TF_RECORD_SCRIPT']):\n",
        "    !git clone https://github.com/nicknochnack/GenerateTFRecord {paths['SCRIPTS_PATH']}"
      ],
      "execution_count": 15,
      "outputs": [
        {
          "output_type": "stream",
          "text": [
            "Cloning into 'Tensorflow/scripts'...\n",
            "remote: Enumerating objects: 3, done.\u001b[K\n",
            "remote: Counting objects:  33% (1/3)\u001b[K\rremote: Counting objects:  66% (2/3)\u001b[K\rremote: Counting objects: 100% (3/3)\u001b[K\rremote: Counting objects: 100% (3/3), done.\u001b[K\n",
            "remote: Compressing objects:  50% (1/2)\u001b[K\rremote: Compressing objects: 100% (2/2)\u001b[K\rremote: Compressing objects: 100% (2/2), done.\u001b[K\n",
            "remote: Total 3 (delta 0), reused 1 (delta 0), pack-reused 0\u001b[K\n",
            "Unpacking objects:  33% (1/3)   \rUnpacking objects:  66% (2/3)   \rUnpacking objects: 100% (3/3)   \rUnpacking objects: 100% (3/3), done.\n"
          ],
          "name": "stdout"
        }
      ]
    },
    {
      "cell_type": "code",
      "metadata": {
        "colab": {
          "base_uri": "https://localhost:8080/"
        },
        "id": "UPFToGZqpfDD",
        "outputId": "341abb16-eec5-4566-c0e6-04b9441b8053"
      },
      "source": [
        "!python {files['TF_RECORD_SCRIPT']} -x {os.path.join(paths['IMAGE_PATH'], 'train')} -l {files['LABELMAP']} -o {os.path.join(paths['ANNOTATION_PATH'], 'train.record')} \n",
        "!python {files['TF_RECORD_SCRIPT']} -x {os.path.join(paths['IMAGE_PATH'], 'test')} -l {files['LABELMAP']} -o {os.path.join(paths['ANNOTATION_PATH'], 'test.record')} "
      ],
      "execution_count": 16,
      "outputs": [
        {
          "output_type": "stream",
          "text": [
            "Successfully created the TFRecord file: Tensorflow/workspace/annotations/train.record\n",
            "Successfully created the TFRecord file: Tensorflow/workspace/annotations/test.record\n"
          ],
          "name": "stdout"
        }
      ]
    },
    {
      "cell_type": "code",
      "metadata": {
        "colab": {
          "base_uri": "https://localhost:8080/"
        },
        "id": "urrHUnR1JaX2",
        "outputId": "71d0f06a-2340-4c71-ef2c-03d43947a0b8"
      },
      "source": [
        "!unzip \"/content/Tensorflow/workspace/images/train (1).zip\" -d \"/content/Tensorflow/workspace/images\""
      ],
      "execution_count": 17,
      "outputs": [
        {
          "output_type": "stream",
          "text": [
            "Archive:  /content/Tensorflow/workspace/images/train (1).zip\n",
            "   creating: /content/Tensorflow/workspace/images/train/\n",
            "   creating: /content/Tensorflow/workspace/images/train/train/\n",
            "  inflating: /content/Tensorflow/workspace/images/train/train/apple_1.jpg  \n",
            "  inflating: /content/Tensorflow/workspace/images/train/train/apple_1.xml  \n",
            "  inflating: /content/Tensorflow/workspace/images/train/train/apple_10.jpg  \n",
            "  inflating: /content/Tensorflow/workspace/images/train/train/apple_10.xml  \n",
            "  inflating: /content/Tensorflow/workspace/images/train/train/apple_11.jpg  \n",
            "  inflating: /content/Tensorflow/workspace/images/train/train/apple_11.xml  \n",
            "  inflating: /content/Tensorflow/workspace/images/train/train/apple_12.jpg  \n",
            "  inflating: /content/Tensorflow/workspace/images/train/train/apple_12.xml  \n",
            "  inflating: /content/Tensorflow/workspace/images/train/train/apple_13.jpg  \n",
            "  inflating: /content/Tensorflow/workspace/images/train/train/apple_13.xml  \n",
            "  inflating: /content/Tensorflow/workspace/images/train/train/apple_14.jpg  \n",
            "  inflating: /content/Tensorflow/workspace/images/train/train/apple_14.xml  \n",
            "  inflating: /content/Tensorflow/workspace/images/train/train/apple_15.jpg  \n",
            "  inflating: /content/Tensorflow/workspace/images/train/train/apple_15.xml  \n",
            "  inflating: /content/Tensorflow/workspace/images/train/train/apple_16.jpg  \n",
            "  inflating: /content/Tensorflow/workspace/images/train/train/apple_16.xml  \n",
            " extracting: /content/Tensorflow/workspace/images/train/train/apple_17.jpg  \n",
            "  inflating: /content/Tensorflow/workspace/images/train/train/apple_17.xml  \n",
            "  inflating: /content/Tensorflow/workspace/images/train/train/apple_18.jpg  \n",
            "  inflating: /content/Tensorflow/workspace/images/train/train/apple_18.xml  \n",
            "  inflating: /content/Tensorflow/workspace/images/train/train/apple_19.jpg  \n",
            "  inflating: /content/Tensorflow/workspace/images/train/train/apple_19.xml  \n",
            "  inflating: /content/Tensorflow/workspace/images/train/train/apple_2.jpg  \n",
            "  inflating: /content/Tensorflow/workspace/images/train/train/apple_2.xml  \n",
            "  inflating: /content/Tensorflow/workspace/images/train/train/apple_20.jpg  \n",
            "  inflating: /content/Tensorflow/workspace/images/train/train/apple_20.xml  \n",
            "  inflating: /content/Tensorflow/workspace/images/train/train/apple_21.jpg  \n",
            "  inflating: /content/Tensorflow/workspace/images/train/train/apple_21.xml  \n",
            "  inflating: /content/Tensorflow/workspace/images/train/train/apple_22.jpg  \n",
            "  inflating: /content/Tensorflow/workspace/images/train/train/apple_22.xml  \n",
            "  inflating: /content/Tensorflow/workspace/images/train/train/apple_23.jpg  \n",
            "  inflating: /content/Tensorflow/workspace/images/train/train/apple_23.xml  \n",
            "  inflating: /content/Tensorflow/workspace/images/train/train/apple_24.jpg  \n",
            "  inflating: /content/Tensorflow/workspace/images/train/train/apple_24.xml  \n",
            "  inflating: /content/Tensorflow/workspace/images/train/train/apple_25.jpg  \n",
            "  inflating: /content/Tensorflow/workspace/images/train/train/apple_25.xml  \n",
            "  inflating: /content/Tensorflow/workspace/images/train/train/apple_26.jpg  \n",
            "  inflating: /content/Tensorflow/workspace/images/train/train/apple_26.xml  \n",
            "  inflating: /content/Tensorflow/workspace/images/train/train/apple_27.jpg  \n",
            "  inflating: /content/Tensorflow/workspace/images/train/train/apple_27.xml  \n",
            "  inflating: /content/Tensorflow/workspace/images/train/train/apple_28.jpg  \n",
            "  inflating: /content/Tensorflow/workspace/images/train/train/apple_28.xml  \n",
            "  inflating: /content/Tensorflow/workspace/images/train/train/apple_29.jpg  \n",
            "  inflating: /content/Tensorflow/workspace/images/train/train/apple_29.xml  \n",
            "  inflating: /content/Tensorflow/workspace/images/train/train/apple_3.jpg  \n",
            "  inflating: /content/Tensorflow/workspace/images/train/train/apple_3.xml  \n",
            "  inflating: /content/Tensorflow/workspace/images/train/train/apple_30.jpg  \n",
            "  inflating: /content/Tensorflow/workspace/images/train/train/apple_30.xml  \n",
            "  inflating: /content/Tensorflow/workspace/images/train/train/apple_31.jpg  \n",
            "  inflating: /content/Tensorflow/workspace/images/train/train/apple_31.xml  \n",
            "  inflating: /content/Tensorflow/workspace/images/train/train/apple_32.jpg  \n",
            "  inflating: /content/Tensorflow/workspace/images/train/train/apple_32.xml  \n",
            "  inflating: /content/Tensorflow/workspace/images/train/train/apple_33.jpg  \n",
            "  inflating: /content/Tensorflow/workspace/images/train/train/apple_33.xml  \n",
            "  inflating: /content/Tensorflow/workspace/images/train/train/apple_35.jpg  \n",
            "  inflating: /content/Tensorflow/workspace/images/train/train/apple_35.xml  \n",
            "  inflating: /content/Tensorflow/workspace/images/train/train/apple_36.jpg  \n",
            "  inflating: /content/Tensorflow/workspace/images/train/train/apple_36.xml  \n",
            " extracting: /content/Tensorflow/workspace/images/train/train/apple_37.jpg  \n",
            "  inflating: /content/Tensorflow/workspace/images/train/train/apple_37.xml  \n",
            "  inflating: /content/Tensorflow/workspace/images/train/train/apple_38.jpg  \n",
            "  inflating: /content/Tensorflow/workspace/images/train/train/apple_38.xml  \n",
            "  inflating: /content/Tensorflow/workspace/images/train/train/apple_39.jpg  \n",
            "  inflating: /content/Tensorflow/workspace/images/train/train/apple_39.xml  \n",
            "  inflating: /content/Tensorflow/workspace/images/train/train/apple_4.jpg  \n",
            "  inflating: /content/Tensorflow/workspace/images/train/train/apple_4.xml  \n",
            "  inflating: /content/Tensorflow/workspace/images/train/train/apple_40.jpg  \n",
            "  inflating: /content/Tensorflow/workspace/images/train/train/apple_40.xml  \n",
            "  inflating: /content/Tensorflow/workspace/images/train/train/apple_41.jpg  \n",
            "  inflating: /content/Tensorflow/workspace/images/train/train/apple_41.xml  \n",
            " extracting: /content/Tensorflow/workspace/images/train/train/apple_42.jpg  \n",
            "  inflating: /content/Tensorflow/workspace/images/train/train/apple_42.xml  \n",
            "  inflating: /content/Tensorflow/workspace/images/train/train/apple_43.jpg  \n",
            "  inflating: /content/Tensorflow/workspace/images/train/train/apple_43.xml  \n",
            " extracting: /content/Tensorflow/workspace/images/train/train/apple_44.jpg  \n",
            "  inflating: /content/Tensorflow/workspace/images/train/train/apple_44.xml  \n",
            "  inflating: /content/Tensorflow/workspace/images/train/train/apple_45.jpg  \n",
            "  inflating: /content/Tensorflow/workspace/images/train/train/apple_45.xml  \n",
            "  inflating: /content/Tensorflow/workspace/images/train/train/apple_46.jpg  \n",
            "  inflating: /content/Tensorflow/workspace/images/train/train/apple_46.xml  \n",
            "  inflating: /content/Tensorflow/workspace/images/train/train/apple_47.jpg  \n",
            "  inflating: /content/Tensorflow/workspace/images/train/train/apple_47.xml  \n",
            "  inflating: /content/Tensorflow/workspace/images/train/train/apple_48.jpg  \n",
            "  inflating: /content/Tensorflow/workspace/images/train/train/apple_48.xml  \n",
            "  inflating: /content/Tensorflow/workspace/images/train/train/apple_49.jpg  \n",
            "  inflating: /content/Tensorflow/workspace/images/train/train/apple_49.xml  \n",
            "  inflating: /content/Tensorflow/workspace/images/train/train/apple_5.jpg  \n",
            "  inflating: /content/Tensorflow/workspace/images/train/train/apple_5.xml  \n",
            "  inflating: /content/Tensorflow/workspace/images/train/train/apple_50.jpg  \n",
            "  inflating: /content/Tensorflow/workspace/images/train/train/apple_50.xml  \n",
            "  inflating: /content/Tensorflow/workspace/images/train/train/apple_51.jpg  \n",
            "  inflating: /content/Tensorflow/workspace/images/train/train/apple_51.xml  \n",
            "  inflating: /content/Tensorflow/workspace/images/train/train/apple_52.jpg  \n",
            "  inflating: /content/Tensorflow/workspace/images/train/train/apple_52.xml  \n",
            "  inflating: /content/Tensorflow/workspace/images/train/train/apple_53.jpg  \n",
            "  inflating: /content/Tensorflow/workspace/images/train/train/apple_53.xml  \n",
            "  inflating: /content/Tensorflow/workspace/images/train/train/apple_54.jpg  \n",
            "  inflating: /content/Tensorflow/workspace/images/train/train/apple_54.xml  \n",
            "  inflating: /content/Tensorflow/workspace/images/train/train/apple_55.jpg  \n",
            "  inflating: /content/Tensorflow/workspace/images/train/train/apple_55.xml  \n",
            "  inflating: /content/Tensorflow/workspace/images/train/train/apple_56.jpg  \n",
            "  inflating: /content/Tensorflow/workspace/images/train/train/apple_56.xml  \n",
            "  inflating: /content/Tensorflow/workspace/images/train/train/apple_57.jpg  \n",
            "  inflating: /content/Tensorflow/workspace/images/train/train/apple_57.xml  \n",
            "  inflating: /content/Tensorflow/workspace/images/train/train/apple_58.jpg  \n",
            "  inflating: /content/Tensorflow/workspace/images/train/train/apple_58.xml  \n",
            "  inflating: /content/Tensorflow/workspace/images/train/train/apple_59.jpg  \n",
            "  inflating: /content/Tensorflow/workspace/images/train/train/apple_59.xml  \n",
            "  inflating: /content/Tensorflow/workspace/images/train/train/apple_6.jpg  \n",
            "  inflating: /content/Tensorflow/workspace/images/train/train/apple_6.xml  \n",
            "  inflating: /content/Tensorflow/workspace/images/train/train/apple_60.jpg  \n",
            "  inflating: /content/Tensorflow/workspace/images/train/train/apple_60.xml  \n",
            "  inflating: /content/Tensorflow/workspace/images/train/train/apple_61.jpg  \n",
            "  inflating: /content/Tensorflow/workspace/images/train/train/apple_61.xml  \n",
            "  inflating: /content/Tensorflow/workspace/images/train/train/apple_62.jpg  \n",
            "  inflating: /content/Tensorflow/workspace/images/train/train/apple_62.xml  \n",
            "  inflating: /content/Tensorflow/workspace/images/train/train/apple_63.jpg  \n",
            "  inflating: /content/Tensorflow/workspace/images/train/train/apple_63.xml  \n",
            " extracting: /content/Tensorflow/workspace/images/train/train/apple_64.jpg  \n",
            "  inflating: /content/Tensorflow/workspace/images/train/train/apple_64.xml  \n",
            "  inflating: /content/Tensorflow/workspace/images/train/train/apple_65.jpg  \n",
            "  inflating: /content/Tensorflow/workspace/images/train/train/apple_65.xml  \n",
            "  inflating: /content/Tensorflow/workspace/images/train/train/apple_66.jpg  \n",
            "  inflating: /content/Tensorflow/workspace/images/train/train/apple_66.xml  \n",
            "  inflating: /content/Tensorflow/workspace/images/train/train/apple_67.jpg  \n",
            "  inflating: /content/Tensorflow/workspace/images/train/train/apple_67.xml  \n",
            "  inflating: /content/Tensorflow/workspace/images/train/train/apple_68.jpg  \n",
            "  inflating: /content/Tensorflow/workspace/images/train/train/apple_68.xml  \n",
            "  inflating: /content/Tensorflow/workspace/images/train/train/apple_69.jpg  \n",
            "  inflating: /content/Tensorflow/workspace/images/train/train/apple_69.xml  \n",
            "  inflating: /content/Tensorflow/workspace/images/train/train/apple_7.jpg  \n",
            "  inflating: /content/Tensorflow/workspace/images/train/train/apple_7.xml  \n",
            "  inflating: /content/Tensorflow/workspace/images/train/train/apple_70.jpg  \n",
            "  inflating: /content/Tensorflow/workspace/images/train/train/apple_70.xml  \n",
            "  inflating: /content/Tensorflow/workspace/images/train/train/apple_71.jpg  \n",
            "  inflating: /content/Tensorflow/workspace/images/train/train/apple_71.xml  \n",
            "  inflating: /content/Tensorflow/workspace/images/train/train/apple_72.jpg  \n",
            "  inflating: /content/Tensorflow/workspace/images/train/train/apple_72.xml  \n",
            "  inflating: /content/Tensorflow/workspace/images/train/train/apple_73.jpg  \n",
            "  inflating: /content/Tensorflow/workspace/images/train/train/apple_73.xml  \n",
            "  inflating: /content/Tensorflow/workspace/images/train/train/apple_74.jpg  \n",
            "  inflating: /content/Tensorflow/workspace/images/train/train/apple_74.xml  \n",
            "  inflating: /content/Tensorflow/workspace/images/train/train/apple_75.jpg  \n",
            "  inflating: /content/Tensorflow/workspace/images/train/train/apple_75.xml  \n",
            "  inflating: /content/Tensorflow/workspace/images/train/train/apple_76.jpg  \n",
            "  inflating: /content/Tensorflow/workspace/images/train/train/apple_76.xml  \n",
            " extracting: /content/Tensorflow/workspace/images/train/train/apple_8.jpg  \n",
            "  inflating: /content/Tensorflow/workspace/images/train/train/apple_8.xml  \n",
            "  inflating: /content/Tensorflow/workspace/images/train/train/apple_9.jpg  \n",
            "  inflating: /content/Tensorflow/workspace/images/train/train/apple_9.xml  \n",
            "  inflating: /content/Tensorflow/workspace/images/train/train/banana_1.jpg  \n",
            "  inflating: /content/Tensorflow/workspace/images/train/train/banana_1.xml  \n",
            "  inflating: /content/Tensorflow/workspace/images/train/train/banana_10.jpg  \n",
            "  inflating: /content/Tensorflow/workspace/images/train/train/banana_10.xml  \n",
            "  inflating: /content/Tensorflow/workspace/images/train/train/banana_11.jpg  \n",
            "  inflating: /content/Tensorflow/workspace/images/train/train/banana_11.xml  \n",
            "  inflating: /content/Tensorflow/workspace/images/train/train/banana_12.jpg  \n",
            "  inflating: /content/Tensorflow/workspace/images/train/train/banana_12.xml  \n",
            "  inflating: /content/Tensorflow/workspace/images/train/train/banana_13.jpg  \n",
            "  inflating: /content/Tensorflow/workspace/images/train/train/banana_13.xml  \n",
            "  inflating: /content/Tensorflow/workspace/images/train/train/banana_14.jpg  \n",
            "  inflating: /content/Tensorflow/workspace/images/train/train/banana_14.xml  \n",
            "  inflating: /content/Tensorflow/workspace/images/train/train/banana_16.jpg  \n",
            "  inflating: /content/Tensorflow/workspace/images/train/train/banana_16.xml  \n",
            "  inflating: /content/Tensorflow/workspace/images/train/train/banana_17.jpg  \n",
            "  inflating: /content/Tensorflow/workspace/images/train/train/banana_17.xml  \n",
            "  inflating: /content/Tensorflow/workspace/images/train/train/banana_2.jpg  \n",
            "  inflating: /content/Tensorflow/workspace/images/train/train/banana_2.xml  \n",
            "  inflating: /content/Tensorflow/workspace/images/train/train/banana_20.jpg  \n",
            "  inflating: /content/Tensorflow/workspace/images/train/train/banana_20.xml  \n",
            "  inflating: /content/Tensorflow/workspace/images/train/train/banana_21.jpg  \n",
            "  inflating: /content/Tensorflow/workspace/images/train/train/banana_21.xml  \n",
            "  inflating: /content/Tensorflow/workspace/images/train/train/banana_22.jpg  \n",
            "  inflating: /content/Tensorflow/workspace/images/train/train/banana_22.xml  \n",
            "  inflating: /content/Tensorflow/workspace/images/train/train/banana_23.jpg  \n",
            "  inflating: /content/Tensorflow/workspace/images/train/train/banana_23.xml  \n",
            "  inflating: /content/Tensorflow/workspace/images/train/train/banana_24.jpg  \n",
            "  inflating: /content/Tensorflow/workspace/images/train/train/banana_24.xml  \n",
            "  inflating: /content/Tensorflow/workspace/images/train/train/banana_25.jpg  \n",
            "  inflating: /content/Tensorflow/workspace/images/train/train/banana_25.xml  \n",
            "  inflating: /content/Tensorflow/workspace/images/train/train/banana_26.jpg  \n",
            "  inflating: /content/Tensorflow/workspace/images/train/train/banana_26.xml  \n",
            "  inflating: /content/Tensorflow/workspace/images/train/train/banana_27.jpg  \n",
            "  inflating: /content/Tensorflow/workspace/images/train/train/banana_27.xml  \n",
            "  inflating: /content/Tensorflow/workspace/images/train/train/banana_28.jpg  \n",
            "  inflating: /content/Tensorflow/workspace/images/train/train/banana_28.xml  \n",
            "  inflating: /content/Tensorflow/workspace/images/train/train/banana_29.jpg  \n",
            "  inflating: /content/Tensorflow/workspace/images/train/train/banana_29.xml  \n",
            "  inflating: /content/Tensorflow/workspace/images/train/train/banana_3.jpg  \n",
            "  inflating: /content/Tensorflow/workspace/images/train/train/banana_3.xml  \n",
            "  inflating: /content/Tensorflow/workspace/images/train/train/banana_30.jpg  \n",
            "  inflating: /content/Tensorflow/workspace/images/train/train/banana_30.xml  \n",
            "  inflating: /content/Tensorflow/workspace/images/train/train/banana_31.jpg  \n",
            "  inflating: /content/Tensorflow/workspace/images/train/train/banana_31.xml  \n",
            "  inflating: /content/Tensorflow/workspace/images/train/train/banana_32.jpg  \n",
            "  inflating: /content/Tensorflow/workspace/images/train/train/banana_32.xml  \n",
            "  inflating: /content/Tensorflow/workspace/images/train/train/banana_33.jpg  \n",
            "  inflating: /content/Tensorflow/workspace/images/train/train/banana_33.xml  \n",
            "  inflating: /content/Tensorflow/workspace/images/train/train/banana_34.jpg  \n",
            "  inflating: /content/Tensorflow/workspace/images/train/train/banana_34.xml  \n",
            "  inflating: /content/Tensorflow/workspace/images/train/train/banana_35.jpg  \n",
            "  inflating: /content/Tensorflow/workspace/images/train/train/banana_35.xml  \n",
            "  inflating: /content/Tensorflow/workspace/images/train/train/banana_36.jpg  \n",
            "  inflating: /content/Tensorflow/workspace/images/train/train/banana_36.xml  \n",
            "  inflating: /content/Tensorflow/workspace/images/train/train/banana_37.jpg  \n",
            "  inflating: /content/Tensorflow/workspace/images/train/train/banana_37.xml  \n",
            "  inflating: /content/Tensorflow/workspace/images/train/train/banana_38.jpg  \n",
            "  inflating: /content/Tensorflow/workspace/images/train/train/banana_38.xml  \n",
            "  inflating: /content/Tensorflow/workspace/images/train/train/banana_39.jpg  \n",
            "  inflating: /content/Tensorflow/workspace/images/train/train/banana_39.xml  \n",
            "  inflating: /content/Tensorflow/workspace/images/train/train/banana_4.jpg  \n",
            "  inflating: /content/Tensorflow/workspace/images/train/train/banana_4.xml  \n",
            "  inflating: /content/Tensorflow/workspace/images/train/train/banana_40.jpg  \n",
            "  inflating: /content/Tensorflow/workspace/images/train/train/banana_40.xml  \n",
            "  inflating: /content/Tensorflow/workspace/images/train/train/banana_41.jpg  \n",
            "  inflating: /content/Tensorflow/workspace/images/train/train/banana_41.xml  \n",
            "  inflating: /content/Tensorflow/workspace/images/train/train/banana_42.jpg  \n",
            "  inflating: /content/Tensorflow/workspace/images/train/train/banana_42.xml  \n",
            "  inflating: /content/Tensorflow/workspace/images/train/train/banana_43.jpg  \n",
            "  inflating: /content/Tensorflow/workspace/images/train/train/banana_43.xml  \n",
            "  inflating: /content/Tensorflow/workspace/images/train/train/banana_44.jpg  \n",
            "  inflating: /content/Tensorflow/workspace/images/train/train/banana_44.xml  \n",
            "  inflating: /content/Tensorflow/workspace/images/train/train/banana_45.jpg  \n",
            "  inflating: /content/Tensorflow/workspace/images/train/train/banana_45.xml  \n",
            "  inflating: /content/Tensorflow/workspace/images/train/train/banana_46.jpg  \n",
            "  inflating: /content/Tensorflow/workspace/images/train/train/banana_46.xml  \n",
            "  inflating: /content/Tensorflow/workspace/images/train/train/banana_47.jpg  \n",
            "  inflating: /content/Tensorflow/workspace/images/train/train/banana_47.xml  \n",
            "  inflating: /content/Tensorflow/workspace/images/train/train/banana_48.jpg  \n",
            "  inflating: /content/Tensorflow/workspace/images/train/train/banana_48.xml  \n",
            "  inflating: /content/Tensorflow/workspace/images/train/train/banana_49.jpg  \n",
            "  inflating: /content/Tensorflow/workspace/images/train/train/banana_49.xml  \n",
            "  inflating: /content/Tensorflow/workspace/images/train/train/banana_5.jpg  \n",
            "  inflating: /content/Tensorflow/workspace/images/train/train/banana_5.xml  \n",
            "  inflating: /content/Tensorflow/workspace/images/train/train/banana_50.jpg  \n",
            "  inflating: /content/Tensorflow/workspace/images/train/train/banana_50.xml  \n",
            " extracting: /content/Tensorflow/workspace/images/train/train/banana_51.jpg  \n",
            "  inflating: /content/Tensorflow/workspace/images/train/train/banana_51.xml  \n",
            "  inflating: /content/Tensorflow/workspace/images/train/train/banana_52.jpg  \n",
            "  inflating: /content/Tensorflow/workspace/images/train/train/banana_52.xml  \n",
            "  inflating: /content/Tensorflow/workspace/images/train/train/banana_53.jpg  \n",
            "  inflating: /content/Tensorflow/workspace/images/train/train/banana_53.xml  \n",
            "  inflating: /content/Tensorflow/workspace/images/train/train/banana_54.jpg  \n",
            "  inflating: /content/Tensorflow/workspace/images/train/train/banana_54.xml  \n",
            "  inflating: /content/Tensorflow/workspace/images/train/train/banana_55.jpg  \n",
            "  inflating: /content/Tensorflow/workspace/images/train/train/banana_55.xml  \n",
            "  inflating: /content/Tensorflow/workspace/images/train/train/banana_56.jpg  \n",
            "  inflating: /content/Tensorflow/workspace/images/train/train/banana_56.xml  \n",
            "  inflating: /content/Tensorflow/workspace/images/train/train/banana_57.jpg  \n",
            "  inflating: /content/Tensorflow/workspace/images/train/train/banana_57.xml  \n",
            "  inflating: /content/Tensorflow/workspace/images/train/train/banana_58.jpg  \n",
            "  inflating: /content/Tensorflow/workspace/images/train/train/banana_58.xml  \n",
            "  inflating: /content/Tensorflow/workspace/images/train/train/banana_59.jpg  \n",
            "  inflating: /content/Tensorflow/workspace/images/train/train/banana_59.xml  \n",
            "  inflating: /content/Tensorflow/workspace/images/train/train/banana_6.jpg  \n",
            "  inflating: /content/Tensorflow/workspace/images/train/train/banana_6.xml  \n",
            "  inflating: /content/Tensorflow/workspace/images/train/train/banana_60.jpg  \n",
            "  inflating: /content/Tensorflow/workspace/images/train/train/banana_60.xml  \n",
            "  inflating: /content/Tensorflow/workspace/images/train/train/banana_61.jpg  \n",
            "  inflating: /content/Tensorflow/workspace/images/train/train/banana_61.xml  \n",
            "  inflating: /content/Tensorflow/workspace/images/train/train/banana_62.jpg  \n",
            "  inflating: /content/Tensorflow/workspace/images/train/train/banana_62.xml  \n",
            "  inflating: /content/Tensorflow/workspace/images/train/train/banana_63.jpg  \n",
            "  inflating: /content/Tensorflow/workspace/images/train/train/banana_63.xml  \n",
            "  inflating: /content/Tensorflow/workspace/images/train/train/banana_64.jpg  \n",
            "  inflating: /content/Tensorflow/workspace/images/train/train/banana_64.xml  \n",
            "  inflating: /content/Tensorflow/workspace/images/train/train/banana_65.jpg  \n",
            "  inflating: /content/Tensorflow/workspace/images/train/train/banana_65.xml  \n",
            "  inflating: /content/Tensorflow/workspace/images/train/train/banana_66.jpg  \n",
            "  inflating: /content/Tensorflow/workspace/images/train/train/banana_66.xml  \n",
            "  inflating: /content/Tensorflow/workspace/images/train/train/banana_67.jpg  \n",
            "  inflating: /content/Tensorflow/workspace/images/train/train/banana_67.xml  \n",
            "  inflating: /content/Tensorflow/workspace/images/train/train/banana_68.jpg  \n",
            "  inflating: /content/Tensorflow/workspace/images/train/train/banana_68.xml  \n",
            "  inflating: /content/Tensorflow/workspace/images/train/train/banana_69.jpg  \n",
            "  inflating: /content/Tensorflow/workspace/images/train/train/banana_69.xml  \n",
            "  inflating: /content/Tensorflow/workspace/images/train/train/banana_7.jpg  \n",
            "  inflating: /content/Tensorflow/workspace/images/train/train/banana_7.xml  \n",
            "  inflating: /content/Tensorflow/workspace/images/train/train/banana_70.jpg  \n",
            "  inflating: /content/Tensorflow/workspace/images/train/train/banana_70.xml  \n",
            "  inflating: /content/Tensorflow/workspace/images/train/train/banana_71.jpg  \n",
            "  inflating: /content/Tensorflow/workspace/images/train/train/banana_71.xml  \n",
            "  inflating: /content/Tensorflow/workspace/images/train/train/banana_72.jpg  \n",
            "  inflating: /content/Tensorflow/workspace/images/train/train/banana_72.xml  \n",
            "  inflating: /content/Tensorflow/workspace/images/train/train/banana_73.jpg  \n",
            "  inflating: /content/Tensorflow/workspace/images/train/train/banana_73.xml  \n",
            "  inflating: /content/Tensorflow/workspace/images/train/train/banana_74.jpg  \n",
            "  inflating: /content/Tensorflow/workspace/images/train/train/banana_74.xml  \n",
            "  inflating: /content/Tensorflow/workspace/images/train/train/banana_75.jpg  \n",
            "  inflating: /content/Tensorflow/workspace/images/train/train/banana_75.xml  \n",
            "  inflating: /content/Tensorflow/workspace/images/train/train/banana_76.jpg  \n",
            "  inflating: /content/Tensorflow/workspace/images/train/train/banana_76.xml  \n",
            "  inflating: /content/Tensorflow/workspace/images/train/train/banana_8.jpg  \n",
            "  inflating: /content/Tensorflow/workspace/images/train/train/banana_8.xml  \n",
            "  inflating: /content/Tensorflow/workspace/images/train/train/banana_9.jpg  \n",
            "  inflating: /content/Tensorflow/workspace/images/train/train/banana_9.xml  \n",
            "  inflating: /content/Tensorflow/workspace/images/train/train/mixed_1.jpg  \n",
            "  inflating: /content/Tensorflow/workspace/images/train/train/mixed_1.xml  \n",
            "  inflating: /content/Tensorflow/workspace/images/train/train/mixed_10.jpg  \n",
            "  inflating: /content/Tensorflow/workspace/images/train/train/mixed_10.xml  \n",
            "  inflating: /content/Tensorflow/workspace/images/train/train/mixed_11.jpg  \n",
            "  inflating: /content/Tensorflow/workspace/images/train/train/mixed_11.xml  \n",
            "  inflating: /content/Tensorflow/workspace/images/train/train/mixed_12.jpg  \n",
            "  inflating: /content/Tensorflow/workspace/images/train/train/mixed_12.xml  \n",
            "  inflating: /content/Tensorflow/workspace/images/train/train/mixed_13.jpg  \n",
            "  inflating: /content/Tensorflow/workspace/images/train/train/mixed_13.xml  \n",
            "  inflating: /content/Tensorflow/workspace/images/train/train/mixed_14.jpg  \n",
            "  inflating: /content/Tensorflow/workspace/images/train/train/mixed_14.xml  \n",
            "  inflating: /content/Tensorflow/workspace/images/train/train/mixed_15.jpg  \n",
            "  inflating: /content/Tensorflow/workspace/images/train/train/mixed_15.xml  \n",
            " extracting: /content/Tensorflow/workspace/images/train/train/mixed_16.jpg  \n",
            "  inflating: /content/Tensorflow/workspace/images/train/train/mixed_16.xml  \n",
            "  inflating: /content/Tensorflow/workspace/images/train/train/mixed_17.jpg  \n",
            "  inflating: /content/Tensorflow/workspace/images/train/train/mixed_17.xml  \n",
            "  inflating: /content/Tensorflow/workspace/images/train/train/mixed_18.jpg  \n",
            "  inflating: /content/Tensorflow/workspace/images/train/train/mixed_18.xml  \n",
            "  inflating: /content/Tensorflow/workspace/images/train/train/mixed_19.jpg  \n",
            "  inflating: /content/Tensorflow/workspace/images/train/train/mixed_19.xml  \n",
            "  inflating: /content/Tensorflow/workspace/images/train/train/mixed_2.jpg  \n",
            "  inflating: /content/Tensorflow/workspace/images/train/train/mixed_2.xml  \n",
            "  inflating: /content/Tensorflow/workspace/images/train/train/mixed_20.jpg  \n",
            "  inflating: /content/Tensorflow/workspace/images/train/train/mixed_20.xml  \n",
            "  inflating: /content/Tensorflow/workspace/images/train/train/mixed_3.jpg  \n",
            "  inflating: /content/Tensorflow/workspace/images/train/train/mixed_3.xml  \n",
            "  inflating: /content/Tensorflow/workspace/images/train/train/mixed_4.jpg  \n",
            "  inflating: /content/Tensorflow/workspace/images/train/train/mixed_4.xml  \n",
            "  inflating: /content/Tensorflow/workspace/images/train/train/mixed_5.jpg  \n",
            "  inflating: /content/Tensorflow/workspace/images/train/train/mixed_5.xml  \n",
            "  inflating: /content/Tensorflow/workspace/images/train/train/mixed_6.jpg  \n",
            "  inflating: /content/Tensorflow/workspace/images/train/train/mixed_6.xml  \n",
            "  inflating: /content/Tensorflow/workspace/images/train/train/mixed_7.jpg  \n",
            "  inflating: /content/Tensorflow/workspace/images/train/train/mixed_7.xml  \n",
            "  inflating: /content/Tensorflow/workspace/images/train/train/mixed_8.jpg  \n",
            "  inflating: /content/Tensorflow/workspace/images/train/train/mixed_8.xml  \n",
            "  inflating: /content/Tensorflow/workspace/images/train/train/mixed_9.jpg  \n",
            "  inflating: /content/Tensorflow/workspace/images/train/train/mixed_9.xml  \n",
            " extracting: /content/Tensorflow/workspace/images/train/train/orange_1.jpg  \n",
            "  inflating: /content/Tensorflow/workspace/images/train/train/orange_1.xml  \n",
            "  inflating: /content/Tensorflow/workspace/images/train/train/orange_10.jpg  \n",
            "  inflating: /content/Tensorflow/workspace/images/train/train/orange_10.xml  \n",
            "  inflating: /content/Tensorflow/workspace/images/train/train/orange_11.jpg  \n",
            "  inflating: /content/Tensorflow/workspace/images/train/train/orange_11.xml  \n",
            "  inflating: /content/Tensorflow/workspace/images/train/train/orange_12.jpg  \n",
            "  inflating: /content/Tensorflow/workspace/images/train/train/orange_12.xml  \n",
            " extracting: /content/Tensorflow/workspace/images/train/train/orange_13.jpg  \n",
            "  inflating: /content/Tensorflow/workspace/images/train/train/orange_13.xml  \n",
            "  inflating: /content/Tensorflow/workspace/images/train/train/orange_14.jpg  \n",
            "  inflating: /content/Tensorflow/workspace/images/train/train/orange_14.xml  \n",
            "  inflating: /content/Tensorflow/workspace/images/train/train/orange_15.jpg  \n",
            "  inflating: /content/Tensorflow/workspace/images/train/train/orange_15.xml  \n",
            "  inflating: /content/Tensorflow/workspace/images/train/train/orange_16.jpg  \n",
            "  inflating: /content/Tensorflow/workspace/images/train/train/orange_16.xml  \n",
            "  inflating: /content/Tensorflow/workspace/images/train/train/orange_17.jpg  \n",
            "  inflating: /content/Tensorflow/workspace/images/train/train/orange_17.xml  \n",
            " extracting: /content/Tensorflow/workspace/images/train/train/orange_18.jpg  \n",
            "  inflating: /content/Tensorflow/workspace/images/train/train/orange_18.xml  \n",
            "  inflating: /content/Tensorflow/workspace/images/train/train/orange_19.jpg  \n",
            "  inflating: /content/Tensorflow/workspace/images/train/train/orange_19.xml  \n",
            "  inflating: /content/Tensorflow/workspace/images/train/train/orange_2.jpg  \n",
            "  inflating: /content/Tensorflow/workspace/images/train/train/orange_2.xml  \n",
            "  inflating: /content/Tensorflow/workspace/images/train/train/orange_20.jpg  \n",
            "  inflating: /content/Tensorflow/workspace/images/train/train/orange_20.xml  \n",
            "  inflating: /content/Tensorflow/workspace/images/train/train/orange_21.jpg  \n",
            "  inflating: /content/Tensorflow/workspace/images/train/train/orange_21.xml  \n",
            "  inflating: /content/Tensorflow/workspace/images/train/train/orange_22.jpg  \n",
            "  inflating: /content/Tensorflow/workspace/images/train/train/orange_22.xml  \n",
            "  inflating: /content/Tensorflow/workspace/images/train/train/orange_23.jpg  \n",
            "  inflating: /content/Tensorflow/workspace/images/train/train/orange_23.xml  \n",
            "  inflating: /content/Tensorflow/workspace/images/train/train/orange_24.jpg  \n",
            "  inflating: /content/Tensorflow/workspace/images/train/train/orange_24.xml  \n",
            "  inflating: /content/Tensorflow/workspace/images/train/train/orange_25.jpg  \n",
            "  inflating: /content/Tensorflow/workspace/images/train/train/orange_25.xml  \n",
            "  inflating: /content/Tensorflow/workspace/images/train/train/orange_26.jpg  \n",
            "  inflating: /content/Tensorflow/workspace/images/train/train/orange_26.xml  \n",
            "  inflating: /content/Tensorflow/workspace/images/train/train/orange_27.jpg  \n",
            "  inflating: /content/Tensorflow/workspace/images/train/train/orange_27.xml  \n",
            "  inflating: /content/Tensorflow/workspace/images/train/train/orange_28.jpg  \n",
            "  inflating: /content/Tensorflow/workspace/images/train/train/orange_28.xml  \n",
            "  inflating: /content/Tensorflow/workspace/images/train/train/orange_29.jpg  \n",
            "  inflating: /content/Tensorflow/workspace/images/train/train/orange_29.xml  \n",
            "  inflating: /content/Tensorflow/workspace/images/train/train/orange_3.jpg  \n",
            "  inflating: /content/Tensorflow/workspace/images/train/train/orange_3.xml  \n",
            "  inflating: /content/Tensorflow/workspace/images/train/train/orange_30.jpg  \n",
            "  inflating: /content/Tensorflow/workspace/images/train/train/orange_30.xml  \n",
            "  inflating: /content/Tensorflow/workspace/images/train/train/orange_31.jpg  \n",
            "  inflating: /content/Tensorflow/workspace/images/train/train/orange_31.xml  \n",
            "  inflating: /content/Tensorflow/workspace/images/train/train/orange_32.jpg  \n",
            "  inflating: /content/Tensorflow/workspace/images/train/train/orange_32.xml  \n",
            "  inflating: /content/Tensorflow/workspace/images/train/train/orange_33.jpg  \n",
            "  inflating: /content/Tensorflow/workspace/images/train/train/orange_33.xml  \n",
            "  inflating: /content/Tensorflow/workspace/images/train/train/orange_34.jpg  \n",
            "  inflating: /content/Tensorflow/workspace/images/train/train/orange_34.xml  \n",
            "  inflating: /content/Tensorflow/workspace/images/train/train/orange_35.jpg  \n",
            "  inflating: /content/Tensorflow/workspace/images/train/train/orange_35.xml  \n",
            "  inflating: /content/Tensorflow/workspace/images/train/train/orange_36.jpg  \n",
            "  inflating: /content/Tensorflow/workspace/images/train/train/orange_36.xml  \n",
            "  inflating: /content/Tensorflow/workspace/images/train/train/orange_37.jpg  \n",
            "  inflating: /content/Tensorflow/workspace/images/train/train/orange_37.xml  \n",
            "  inflating: /content/Tensorflow/workspace/images/train/train/orange_38.jpg  \n",
            "  inflating: /content/Tensorflow/workspace/images/train/train/orange_38.xml  \n",
            "  inflating: /content/Tensorflow/workspace/images/train/train/orange_4.jpg  \n",
            "  inflating: /content/Tensorflow/workspace/images/train/train/orange_4.xml  \n",
            "  inflating: /content/Tensorflow/workspace/images/train/train/orange_40.jpg  \n",
            "  inflating: /content/Tensorflow/workspace/images/train/train/orange_40.xml  \n",
            "  inflating: /content/Tensorflow/workspace/images/train/train/orange_41.jpg  \n",
            "  inflating: /content/Tensorflow/workspace/images/train/train/orange_41.xml  \n",
            "  inflating: /content/Tensorflow/workspace/images/train/train/orange_42.jpg  \n",
            "  inflating: /content/Tensorflow/workspace/images/train/train/orange_42.xml  \n",
            "  inflating: /content/Tensorflow/workspace/images/train/train/orange_43.jpg  \n",
            "  inflating: /content/Tensorflow/workspace/images/train/train/orange_43.xml  \n",
            "  inflating: /content/Tensorflow/workspace/images/train/train/orange_44.jpg  \n",
            "  inflating: /content/Tensorflow/workspace/images/train/train/orange_44.xml  \n",
            "  inflating: /content/Tensorflow/workspace/images/train/train/orange_46.jpg  \n",
            "  inflating: /content/Tensorflow/workspace/images/train/train/orange_46.xml  \n",
            "  inflating: /content/Tensorflow/workspace/images/train/train/orange_47.jpg  \n",
            "  inflating: /content/Tensorflow/workspace/images/train/train/orange_47.xml  \n",
            "  inflating: /content/Tensorflow/workspace/images/train/train/orange_48.jpg  \n",
            "  inflating: /content/Tensorflow/workspace/images/train/train/orange_48.xml  \n",
            "  inflating: /content/Tensorflow/workspace/images/train/train/orange_49.jpg  \n",
            "  inflating: /content/Tensorflow/workspace/images/train/train/orange_49.xml  \n",
            "  inflating: /content/Tensorflow/workspace/images/train/train/orange_5.jpg  \n",
            "  inflating: /content/Tensorflow/workspace/images/train/train/orange_5.xml  \n",
            " extracting: /content/Tensorflow/workspace/images/train/train/orange_50.jpg  \n",
            "  inflating: /content/Tensorflow/workspace/images/train/train/orange_50.xml  \n",
            "  inflating: /content/Tensorflow/workspace/images/train/train/orange_51.jpg  \n",
            "  inflating: /content/Tensorflow/workspace/images/train/train/orange_51.xml  \n",
            "  inflating: /content/Tensorflow/workspace/images/train/train/orange_52.jpg  \n",
            "  inflating: /content/Tensorflow/workspace/images/train/train/orange_52.xml  \n",
            "  inflating: /content/Tensorflow/workspace/images/train/train/orange_53.jpg  \n",
            "  inflating: /content/Tensorflow/workspace/images/train/train/orange_53.xml  \n",
            "  inflating: /content/Tensorflow/workspace/images/train/train/orange_54.jpg  \n",
            "  inflating: /content/Tensorflow/workspace/images/train/train/orange_54.xml  \n",
            "  inflating: /content/Tensorflow/workspace/images/train/train/orange_55.jpg  \n",
            "  inflating: /content/Tensorflow/workspace/images/train/train/orange_55.xml  \n",
            "  inflating: /content/Tensorflow/workspace/images/train/train/orange_56.jpg  \n",
            "  inflating: /content/Tensorflow/workspace/images/train/train/orange_56.xml  \n",
            "  inflating: /content/Tensorflow/workspace/images/train/train/orange_57.jpg  \n",
            "  inflating: /content/Tensorflow/workspace/images/train/train/orange_57.xml  \n",
            "  inflating: /content/Tensorflow/workspace/images/train/train/orange_58.jpg  \n",
            "  inflating: /content/Tensorflow/workspace/images/train/train/orange_58.xml  \n",
            "  inflating: /content/Tensorflow/workspace/images/train/train/orange_59.jpg  \n",
            "  inflating: /content/Tensorflow/workspace/images/train/train/orange_59.xml  \n",
            "  inflating: /content/Tensorflow/workspace/images/train/train/orange_6.jpg  \n",
            "  inflating: /content/Tensorflow/workspace/images/train/train/orange_6.xml  \n",
            "  inflating: /content/Tensorflow/workspace/images/train/train/orange_60.jpg  \n",
            "  inflating: /content/Tensorflow/workspace/images/train/train/orange_60.xml  \n",
            "  inflating: /content/Tensorflow/workspace/images/train/train/orange_61.jpg  \n",
            "  inflating: /content/Tensorflow/workspace/images/train/train/orange_61.xml  \n",
            "  inflating: /content/Tensorflow/workspace/images/train/train/orange_62.jpg  \n",
            "  inflating: /content/Tensorflow/workspace/images/train/train/orange_62.xml  \n",
            "  inflating: /content/Tensorflow/workspace/images/train/train/orange_63.jpg  \n",
            "  inflating: /content/Tensorflow/workspace/images/train/train/orange_63.xml  \n",
            "  inflating: /content/Tensorflow/workspace/images/train/train/orange_64.jpg  \n",
            "  inflating: /content/Tensorflow/workspace/images/train/train/orange_64.xml  \n",
            "  inflating: /content/Tensorflow/workspace/images/train/train/orange_67.jpg  \n",
            "  inflating: /content/Tensorflow/workspace/images/train/train/orange_67.xml  \n",
            "  inflating: /content/Tensorflow/workspace/images/train/train/orange_68.jpg  \n",
            "  inflating: /content/Tensorflow/workspace/images/train/train/orange_68.xml  \n",
            "  inflating: /content/Tensorflow/workspace/images/train/train/orange_69.jpg  \n",
            "  inflating: /content/Tensorflow/workspace/images/train/train/orange_69.xml  \n",
            "  inflating: /content/Tensorflow/workspace/images/train/train/orange_7.jpg  \n",
            "  inflating: /content/Tensorflow/workspace/images/train/train/orange_7.xml  \n",
            "  inflating: /content/Tensorflow/workspace/images/train/train/orange_70.jpg  \n",
            "  inflating: /content/Tensorflow/workspace/images/train/train/orange_70.xml  \n",
            "  inflating: /content/Tensorflow/workspace/images/train/train/orange_71.jpg  \n",
            "  inflating: /content/Tensorflow/workspace/images/train/train/orange_71.xml  \n",
            "  inflating: /content/Tensorflow/workspace/images/train/train/orange_72.jpg  \n",
            "  inflating: /content/Tensorflow/workspace/images/train/train/orange_72.xml  \n",
            "  inflating: /content/Tensorflow/workspace/images/train/train/orange_73.jpg  \n",
            "  inflating: /content/Tensorflow/workspace/images/train/train/orange_73.xml  \n",
            "  inflating: /content/Tensorflow/workspace/images/train/train/orange_74.jpg  \n",
            "  inflating: /content/Tensorflow/workspace/images/train/train/orange_74.xml  \n",
            "  inflating: /content/Tensorflow/workspace/images/train/train/orange_75.jpg  \n",
            "  inflating: /content/Tensorflow/workspace/images/train/train/orange_75.xml  \n",
            "  inflating: /content/Tensorflow/workspace/images/train/train/orange_76.jpg  \n",
            "  inflating: /content/Tensorflow/workspace/images/train/train/orange_76.xml  \n",
            "  inflating: /content/Tensorflow/workspace/images/train/train/orange_8.jpg  \n",
            "  inflating: /content/Tensorflow/workspace/images/train/train/orange_8.xml  \n",
            "  inflating: /content/Tensorflow/workspace/images/train/train/orange_9.jpg  \n",
            "  inflating: /content/Tensorflow/workspace/images/train/train/orange_9.xml  \n"
          ],
          "name": "stdout"
        }
      ]
    },
    {
      "cell_type": "markdown",
      "metadata": {
        "id": "qT4QU7pLpfDE"
      },
      "source": [
        "# 4. Copy Model Config to Training Folder"
      ]
    },
    {
      "cell_type": "code",
      "metadata": {
        "id": "cOjuTFbwpfDF"
      },
      "source": [
        "if os.name =='posix':\n",
        "    !cp {os.path.join(paths['PRETRAINED_MODEL_PATH'], PRETRAINED_MODEL_NAME, 'pipeline.config')} {os.path.join(paths['CHECKPOINT_PATH'])}\n",
        "if os.name == 'nt':\n",
        "    !copy {os.path.join(paths['PRETRAINED_MODEL_PATH'], PRETRAINED_MODEL_NAME, 'pipeline.config')} {os.path.join(paths['CHECKPOINT_PATH'])}"
      ],
      "execution_count": 18,
      "outputs": []
    },
    {
      "cell_type": "markdown",
      "metadata": {
        "id": "Ga8gpNslpfDF"
      },
      "source": [
        "# 5. Update Config For Transfer Learning"
      ]
    },
    {
      "cell_type": "code",
      "metadata": {
        "id": "Z9hRrO_ppfDF"
      },
      "source": [
        "import tensorflow as tf\n",
        "from object_detection.utils import config_util\n",
        "from object_detection.protos import pipeline_pb2\n",
        "from google.protobuf import text_format"
      ],
      "execution_count": 19,
      "outputs": []
    },
    {
      "cell_type": "code",
      "metadata": {
        "id": "c2A0mn4ipfDF"
      },
      "source": [
        "config = config_util.get_configs_from_pipeline_file(files['PIPELINE_CONFIG'])"
      ],
      "execution_count": 20,
      "outputs": []
    },
    {
      "cell_type": "code",
      "metadata": {
        "colab": {
          "base_uri": "https://localhost:8080/"
        },
        "id": "uQA13-afpfDF",
        "outputId": "70f53033-afa5-409e-f64f-19e6076e1bad"
      },
      "source": [
        "config"
      ],
      "execution_count": 21,
      "outputs": [
        {
          "output_type": "execute_result",
          "data": {
            "text/plain": [
              "{'eval_config': metrics_set: \"coco_detection_metrics\"\n",
              " use_moving_averages: false,\n",
              " 'eval_input_config': label_map_path: \"PATH_TO_BE_CONFIGURED\"\n",
              " shuffle: false\n",
              " num_epochs: 1\n",
              " tf_record_input_reader {\n",
              "   input_path: \"PATH_TO_BE_CONFIGURED\"\n",
              " },\n",
              " 'eval_input_configs': [label_map_path: \"PATH_TO_BE_CONFIGURED\"\n",
              " shuffle: false\n",
              " num_epochs: 1\n",
              " tf_record_input_reader {\n",
              "   input_path: \"PATH_TO_BE_CONFIGURED\"\n",
              " }\n",
              " ],\n",
              " 'model': ssd {\n",
              "   num_classes: 90\n",
              "   image_resizer {\n",
              "     fixed_shape_resizer {\n",
              "       height: 320\n",
              "       width: 320\n",
              "     }\n",
              "   }\n",
              "   feature_extractor {\n",
              "     type: \"ssd_mobilenet_v2_fpn_keras\"\n",
              "     depth_multiplier: 1.0\n",
              "     min_depth: 16\n",
              "     conv_hyperparams {\n",
              "       regularizer {\n",
              "         l2_regularizer {\n",
              "           weight: 3.9999998989515007e-05\n",
              "         }\n",
              "       }\n",
              "       initializer {\n",
              "         random_normal_initializer {\n",
              "           mean: 0.0\n",
              "           stddev: 0.009999999776482582\n",
              "         }\n",
              "       }\n",
              "       activation: RELU_6\n",
              "       batch_norm {\n",
              "         decay: 0.996999979019165\n",
              "         scale: true\n",
              "         epsilon: 0.0010000000474974513\n",
              "       }\n",
              "     }\n",
              "     use_depthwise: true\n",
              "     override_base_feature_extractor_hyperparams: true\n",
              "     fpn {\n",
              "       min_level: 3\n",
              "       max_level: 7\n",
              "       additional_layer_depth: 128\n",
              "     }\n",
              "   }\n",
              "   box_coder {\n",
              "     faster_rcnn_box_coder {\n",
              "       y_scale: 10.0\n",
              "       x_scale: 10.0\n",
              "       height_scale: 5.0\n",
              "       width_scale: 5.0\n",
              "     }\n",
              "   }\n",
              "   matcher {\n",
              "     argmax_matcher {\n",
              "       matched_threshold: 0.5\n",
              "       unmatched_threshold: 0.5\n",
              "       ignore_thresholds: false\n",
              "       negatives_lower_than_unmatched: true\n",
              "       force_match_for_each_row: true\n",
              "       use_matmul_gather: true\n",
              "     }\n",
              "   }\n",
              "   similarity_calculator {\n",
              "     iou_similarity {\n",
              "     }\n",
              "   }\n",
              "   box_predictor {\n",
              "     weight_shared_convolutional_box_predictor {\n",
              "       conv_hyperparams {\n",
              "         regularizer {\n",
              "           l2_regularizer {\n",
              "             weight: 3.9999998989515007e-05\n",
              "           }\n",
              "         }\n",
              "         initializer {\n",
              "           random_normal_initializer {\n",
              "             mean: 0.0\n",
              "             stddev: 0.009999999776482582\n",
              "           }\n",
              "         }\n",
              "         activation: RELU_6\n",
              "         batch_norm {\n",
              "           decay: 0.996999979019165\n",
              "           scale: true\n",
              "           epsilon: 0.0010000000474974513\n",
              "         }\n",
              "       }\n",
              "       depth: 128\n",
              "       num_layers_before_predictor: 4\n",
              "       kernel_size: 3\n",
              "       class_prediction_bias_init: -4.599999904632568\n",
              "       share_prediction_tower: true\n",
              "       use_depthwise: true\n",
              "     }\n",
              "   }\n",
              "   anchor_generator {\n",
              "     multiscale_anchor_generator {\n",
              "       min_level: 3\n",
              "       max_level: 7\n",
              "       anchor_scale: 4.0\n",
              "       aspect_ratios: 1.0\n",
              "       aspect_ratios: 2.0\n",
              "       aspect_ratios: 0.5\n",
              "       scales_per_octave: 2\n",
              "     }\n",
              "   }\n",
              "   post_processing {\n",
              "     batch_non_max_suppression {\n",
              "       score_threshold: 9.99999993922529e-09\n",
              "       iou_threshold: 0.6000000238418579\n",
              "       max_detections_per_class: 100\n",
              "       max_total_detections: 100\n",
              "       use_static_shapes: false\n",
              "     }\n",
              "     score_converter: SIGMOID\n",
              "   }\n",
              "   normalize_loss_by_num_matches: true\n",
              "   loss {\n",
              "     localization_loss {\n",
              "       weighted_smooth_l1 {\n",
              "       }\n",
              "     }\n",
              "     classification_loss {\n",
              "       weighted_sigmoid_focal {\n",
              "         gamma: 2.0\n",
              "         alpha: 0.25\n",
              "       }\n",
              "     }\n",
              "     classification_weight: 1.0\n",
              "     localization_weight: 1.0\n",
              "   }\n",
              "   encode_background_as_zeros: true\n",
              "   normalize_loc_loss_by_codesize: true\n",
              "   inplace_batchnorm_update: true\n",
              "   freeze_batchnorm: false\n",
              " },\n",
              " 'train_config': batch_size: 128\n",
              " data_augmentation_options {\n",
              "   random_horizontal_flip {\n",
              "   }\n",
              " }\n",
              " data_augmentation_options {\n",
              "   random_crop_image {\n",
              "     min_object_covered: 0.0\n",
              "     min_aspect_ratio: 0.75\n",
              "     max_aspect_ratio: 3.0\n",
              "     min_area: 0.75\n",
              "     max_area: 1.0\n",
              "     overlap_thresh: 0.0\n",
              "   }\n",
              " }\n",
              " sync_replicas: true\n",
              " optimizer {\n",
              "   momentum_optimizer {\n",
              "     learning_rate {\n",
              "       cosine_decay_learning_rate {\n",
              "         learning_rate_base: 0.07999999821186066\n",
              "         total_steps: 50000\n",
              "         warmup_learning_rate: 0.026666000485420227\n",
              "         warmup_steps: 1000\n",
              "       }\n",
              "     }\n",
              "     momentum_optimizer_value: 0.8999999761581421\n",
              "   }\n",
              "   use_moving_average: false\n",
              " }\n",
              " fine_tune_checkpoint: \"PATH_TO_BE_CONFIGURED\"\n",
              " num_steps: 50000\n",
              " startup_delay_steps: 0.0\n",
              " replicas_to_aggregate: 8\n",
              " max_number_of_boxes: 100\n",
              " unpad_groundtruth_tensors: false\n",
              " fine_tune_checkpoint_type: \"classification\"\n",
              " fine_tune_checkpoint_version: V2,\n",
              " 'train_input_config': label_map_path: \"PATH_TO_BE_CONFIGURED\"\n",
              " tf_record_input_reader {\n",
              "   input_path: \"PATH_TO_BE_CONFIGURED\"\n",
              " }}"
            ]
          },
          "metadata": {
            "tags": []
          },
          "execution_count": 21
        }
      ]
    },
    {
      "cell_type": "code",
      "metadata": {
        "id": "9vK5lotDpfDF"
      },
      "source": [
        "pipeline_config = pipeline_pb2.TrainEvalPipelineConfig()\n",
        "with tf.io.gfile.GFile(files['PIPELINE_CONFIG'], \"r\") as f:                                                                                                                                                                                                                     \n",
        "    proto_str = f.read()                                                                                                                                                                                                                                          \n",
        "    text_format.Merge(proto_str, pipeline_config)  "
      ],
      "execution_count": 22,
      "outputs": []
    },
    {
      "cell_type": "code",
      "metadata": {
        "id": "rP43Ph0JpfDG"
      },
      "source": [
        "pipeline_config.model.ssd.num_classes = len(labels)\n",
        "pipeline_config.train_config.batch_size = 4\n",
        "pipeline_config.train_config.fine_tune_checkpoint = os.path.join(paths['PRETRAINED_MODEL_PATH'], PRETRAINED_MODEL_NAME, 'checkpoint', 'ckpt-0')\n",
        "pipeline_config.train_config.fine_tune_checkpoint_type = \"detection\"\n",
        "pipeline_config.train_input_reader.label_map_path= files['LABELMAP']\n",
        "pipeline_config.train_input_reader.tf_record_input_reader.input_path[:] = [os.path.join(paths['ANNOTATION_PATH'], 'train.record')]\n",
        "pipeline_config.eval_input_reader[0].label_map_path = files['LABELMAP']\n",
        "pipeline_config.eval_input_reader[0].tf_record_input_reader.input_path[:] = [os.path.join(paths['ANNOTATION_PATH'], 'test.record')]"
      ],
      "execution_count": 23,
      "outputs": []
    },
    {
      "cell_type": "code",
      "metadata": {
        "id": "oJvfgwWqpfDG"
      },
      "source": [
        "config_text = text_format.MessageToString(pipeline_config)                                                                                                                                                                                                        \n",
        "with tf.io.gfile.GFile(files['PIPELINE_CONFIG'], \"wb\") as f:                                                                                                                                                                                                                     \n",
        "    f.write(config_text)   "
      ],
      "execution_count": 24,
      "outputs": []
    },
    {
      "cell_type": "markdown",
      "metadata": {
        "id": "Zr3ON7xMpfDG"
      },
      "source": [
        "# 6. Train the model"
      ]
    },
    {
      "cell_type": "code",
      "metadata": {
        "id": "B-Y2UQmQpfDG"
      },
      "source": [
        "TRAINING_SCRIPT = os.path.join(paths['APIMODEL_PATH'], 'research', 'object_detection', 'model_main_tf2.py')"
      ],
      "execution_count": 25,
      "outputs": []
    },
    {
      "cell_type": "code",
      "metadata": {
        "id": "jMP2XDfQpfDH"
      },
      "source": [
        "command = \"python {} --model_dir={} --pipeline_config_path={} --num_train_steps=2000\".format(TRAINING_SCRIPT, paths['CHECKPOINT_PATH'],files['PIPELINE_CONFIG'])"
      ],
      "execution_count": 26,
      "outputs": []
    },
    {
      "cell_type": "code",
      "metadata": {
        "colab": {
          "base_uri": "https://localhost:8080/"
        },
        "id": "A4OXXi-ApfDH",
        "outputId": "49f36bcd-2520-4e96-bf97-ced82598c537"
      },
      "source": [
        "print(command)"
      ],
      "execution_count": 27,
      "outputs": [
        {
          "output_type": "stream",
          "text": [
            "python Tensorflow/models/research/object_detection/model_main_tf2.py --model_dir=Tensorflow/workspace/models/my_ssd_mobnet --pipeline_config_path=Tensorflow/workspace/models/my_ssd_mobnet/pipeline.config --num_train_steps=2000\n"
          ],
          "name": "stdout"
        }
      ]
    },
    {
      "cell_type": "code",
      "metadata": {
        "colab": {
          "base_uri": "https://localhost:8080/"
        },
        "id": "i3ZsJR-qpfDH",
        "outputId": "8a1e1288-934c-452f-f33f-d712940e9b6f"
      },
      "source": [
        "!{command}"
      ],
      "execution_count": 28,
      "outputs": [
        {
          "output_type": "stream",
          "text": [
            "2021-07-04 20:17:13.366209: I tensorflow/stream_executor/platform/default/dso_loader.cc:53] Successfully opened dynamic library libcudart.so.11.0\n",
            "2021-07-04 20:17:15.217567: I tensorflow/stream_executor/platform/default/dso_loader.cc:53] Successfully opened dynamic library libcuda.so.1\n",
            "2021-07-04 20:17:15.246892: I tensorflow/stream_executor/cuda/cuda_gpu_executor.cc:937] successful NUMA node read from SysFS had negative value (-1), but there must be at least one NUMA node, so returning NUMA node zero\n",
            "2021-07-04 20:17:15.247596: I tensorflow/core/common_runtime/gpu/gpu_device.cc:1733] Found device 0 with properties: \n",
            "pciBusID: 0000:00:04.0 name: Tesla T4 computeCapability: 7.5\n",
            "coreClock: 1.59GHz coreCount: 40 deviceMemorySize: 14.75GiB deviceMemoryBandwidth: 298.08GiB/s\n",
            "2021-07-04 20:17:15.247653: I tensorflow/stream_executor/platform/default/dso_loader.cc:53] Successfully opened dynamic library libcudart.so.11.0\n",
            "2021-07-04 20:17:15.254313: I tensorflow/stream_executor/platform/default/dso_loader.cc:53] Successfully opened dynamic library libcublas.so.11\n",
            "2021-07-04 20:17:15.254418: I tensorflow/stream_executor/platform/default/dso_loader.cc:53] Successfully opened dynamic library libcublasLt.so.11\n",
            "2021-07-04 20:17:15.256500: I tensorflow/stream_executor/platform/default/dso_loader.cc:53] Successfully opened dynamic library libcufft.so.10\n",
            "2021-07-04 20:17:15.256893: I tensorflow/stream_executor/platform/default/dso_loader.cc:53] Successfully opened dynamic library libcurand.so.10\n",
            "2021-07-04 20:17:15.258724: I tensorflow/stream_executor/platform/default/dso_loader.cc:53] Successfully opened dynamic library libcusolver.so.10\n",
            "2021-07-04 20:17:15.264809: I tensorflow/stream_executor/platform/default/dso_loader.cc:53] Successfully opened dynamic library libcusparse.so.11\n",
            "2021-07-04 20:17:15.265033: I tensorflow/stream_executor/platform/default/dso_loader.cc:53] Successfully opened dynamic library libcudnn.so.8\n",
            "2021-07-04 20:17:15.265142: I tensorflow/stream_executor/cuda/cuda_gpu_executor.cc:937] successful NUMA node read from SysFS had negative value (-1), but there must be at least one NUMA node, so returning NUMA node zero\n",
            "2021-07-04 20:17:15.265825: I tensorflow/stream_executor/cuda/cuda_gpu_executor.cc:937] successful NUMA node read from SysFS had negative value (-1), but there must be at least one NUMA node, so returning NUMA node zero\n",
            "2021-07-04 20:17:15.266368: I tensorflow/core/common_runtime/gpu/gpu_device.cc:1871] Adding visible gpu devices: 0\n",
            "2021-07-04 20:17:15.266892: I tensorflow/stream_executor/cuda/cuda_gpu_executor.cc:937] successful NUMA node read from SysFS had negative value (-1), but there must be at least one NUMA node, so returning NUMA node zero\n",
            "2021-07-04 20:17:15.267450: I tensorflow/core/common_runtime/gpu/gpu_device.cc:1733] Found device 0 with properties: \n",
            "pciBusID: 0000:00:04.0 name: Tesla T4 computeCapability: 7.5\n",
            "coreClock: 1.59GHz coreCount: 40 deviceMemorySize: 14.75GiB deviceMemoryBandwidth: 298.08GiB/s\n",
            "2021-07-04 20:17:15.267531: I tensorflow/stream_executor/cuda/cuda_gpu_executor.cc:937] successful NUMA node read from SysFS had negative value (-1), but there must be at least one NUMA node, so returning NUMA node zero\n",
            "2021-07-04 20:17:15.268095: I tensorflow/stream_executor/cuda/cuda_gpu_executor.cc:937] successful NUMA node read from SysFS had negative value (-1), but there must be at least one NUMA node, so returning NUMA node zero\n",
            "2021-07-04 20:17:15.268636: I tensorflow/core/common_runtime/gpu/gpu_device.cc:1871] Adding visible gpu devices: 0\n",
            "2021-07-04 20:17:15.268711: I tensorflow/stream_executor/platform/default/dso_loader.cc:53] Successfully opened dynamic library libcudart.so.11.0\n",
            "2021-07-04 20:17:15.860187: I tensorflow/core/common_runtime/gpu/gpu_device.cc:1258] Device interconnect StreamExecutor with strength 1 edge matrix:\n",
            "2021-07-04 20:17:15.860238: I tensorflow/core/common_runtime/gpu/gpu_device.cc:1264]      0 \n",
            "2021-07-04 20:17:15.860260: I tensorflow/core/common_runtime/gpu/gpu_device.cc:1277] 0:   N \n",
            "2021-07-04 20:17:15.860451: I tensorflow/stream_executor/cuda/cuda_gpu_executor.cc:937] successful NUMA node read from SysFS had negative value (-1), but there must be at least one NUMA node, so returning NUMA node zero\n",
            "2021-07-04 20:17:15.861070: I tensorflow/stream_executor/cuda/cuda_gpu_executor.cc:937] successful NUMA node read from SysFS had negative value (-1), but there must be at least one NUMA node, so returning NUMA node zero\n",
            "2021-07-04 20:17:15.861672: I tensorflow/stream_executor/cuda/cuda_gpu_executor.cc:937] successful NUMA node read from SysFS had negative value (-1), but there must be at least one NUMA node, so returning NUMA node zero\n",
            "2021-07-04 20:17:15.862187: W tensorflow/core/common_runtime/gpu/gpu_bfc_allocator.cc:39] Overriding allow_growth setting because the TF_FORCE_GPU_ALLOW_GROWTH environment variable is set. Original config value was 0.\n",
            "2021-07-04 20:17:15.862233: I tensorflow/core/common_runtime/gpu/gpu_device.cc:1418] Created TensorFlow device (/job:localhost/replica:0/task:0/device:GPU:0 with 13837 MB memory) -> physical GPU (device: 0, name: Tesla T4, pci bus id: 0000:00:04.0, compute capability: 7.5)\n",
            "WARNING:tensorflow:Collective ops is not configured at program startup. Some performance features may not be enabled.\n",
            "W0704 20:17:15.863966 140715144812416 mirrored_strategy.py:379] Collective ops is not configured at program startup. Some performance features may not be enabled.\n",
            "INFO:tensorflow:Using MirroredStrategy with devices ('/job:localhost/replica:0/task:0/device:GPU:0',)\n",
            "I0704 20:17:15.866791 140715144812416 mirrored_strategy.py:369] Using MirroredStrategy with devices ('/job:localhost/replica:0/task:0/device:GPU:0',)\n",
            "INFO:tensorflow:Maybe overwriting train_steps: 2000\n",
            "I0704 20:17:15.870403 140715144812416 config_util.py:552] Maybe overwriting train_steps: 2000\n",
            "INFO:tensorflow:Maybe overwriting use_bfloat16: False\n",
            "I0704 20:17:15.870537 140715144812416 config_util.py:552] Maybe overwriting use_bfloat16: False\n",
            "WARNING:tensorflow:From /usr/local/lib/python3.7/dist-packages/object_detection/model_lib_v2.py:558: StrategyBase.experimental_distribute_datasets_from_function (from tensorflow.python.distribute.distribute_lib) is deprecated and will be removed in a future version.\n",
            "Instructions for updating:\n",
            "rename to distribute_datasets_from_function\n",
            "W0704 20:17:15.893673 140715144812416 deprecation.py:336] From /usr/local/lib/python3.7/dist-packages/object_detection/model_lib_v2.py:558: StrategyBase.experimental_distribute_datasets_from_function (from tensorflow.python.distribute.distribute_lib) is deprecated and will be removed in a future version.\n",
            "Instructions for updating:\n",
            "rename to distribute_datasets_from_function\n",
            "INFO:tensorflow:Reading unweighted datasets: ['Tensorflow/workspace/annotations/train.record']\n",
            "I0704 20:17:15.906759 140715144812416 dataset_builder.py:163] Reading unweighted datasets: ['Tensorflow/workspace/annotations/train.record']\n",
            "INFO:tensorflow:Reading record datasets for input file: ['Tensorflow/workspace/annotations/train.record']\n",
            "I0704 20:17:15.906926 140715144812416 dataset_builder.py:80] Reading record datasets for input file: ['Tensorflow/workspace/annotations/train.record']\n",
            "INFO:tensorflow:Number of filenames to read: 1\n",
            "I0704 20:17:15.907009 140715144812416 dataset_builder.py:81] Number of filenames to read: 1\n",
            "WARNING:tensorflow:num_readers has been reduced to 1 to match input file shards.\n",
            "W0704 20:17:15.907082 140715144812416 dataset_builder.py:88] num_readers has been reduced to 1 to match input file shards.\n",
            "WARNING:tensorflow:From /usr/local/lib/python3.7/dist-packages/object_detection/builders/dataset_builder.py:105: parallel_interleave (from tensorflow.python.data.experimental.ops.interleave_ops) is deprecated and will be removed in a future version.\n",
            "Instructions for updating:\n",
            "Use `tf.data.Dataset.interleave(map_func, cycle_length, block_length, num_parallel_calls=tf.data.AUTOTUNE)` instead. If sloppy execution is desired, use `tf.data.Options.experimental_deterministic`.\n",
            "W0704 20:17:15.920157 140715144812416 deprecation.py:336] From /usr/local/lib/python3.7/dist-packages/object_detection/builders/dataset_builder.py:105: parallel_interleave (from tensorflow.python.data.experimental.ops.interleave_ops) is deprecated and will be removed in a future version.\n",
            "Instructions for updating:\n",
            "Use `tf.data.Dataset.interleave(map_func, cycle_length, block_length, num_parallel_calls=tf.data.AUTOTUNE)` instead. If sloppy execution is desired, use `tf.data.Options.experimental_deterministic`.\n",
            "WARNING:tensorflow:From /usr/local/lib/python3.7/dist-packages/object_detection/builders/dataset_builder.py:237: DatasetV1.map_with_legacy_function (from tensorflow.python.data.ops.dataset_ops) is deprecated and will be removed in a future version.\n",
            "Instructions for updating:\n",
            "Use `tf.data.Dataset.map()\n",
            "W0704 20:17:15.947441 140715144812416 deprecation.py:336] From /usr/local/lib/python3.7/dist-packages/object_detection/builders/dataset_builder.py:237: DatasetV1.map_with_legacy_function (from tensorflow.python.data.ops.dataset_ops) is deprecated and will be removed in a future version.\n",
            "Instructions for updating:\n",
            "Use `tf.data.Dataset.map()\n",
            "WARNING:tensorflow:From /usr/local/lib/python3.7/dist-packages/tensorflow/python/util/dispatch.py:206: sparse_to_dense (from tensorflow.python.ops.sparse_ops) is deprecated and will be removed in a future version.\n",
            "Instructions for updating:\n",
            "Create a `tf.sparse.SparseTensor` and use `tf.sparse.to_dense` instead.\n",
            "W0704 20:17:22.586905 140715144812416 deprecation.py:336] From /usr/local/lib/python3.7/dist-packages/tensorflow/python/util/dispatch.py:206: sparse_to_dense (from tensorflow.python.ops.sparse_ops) is deprecated and will be removed in a future version.\n",
            "Instructions for updating:\n",
            "Create a `tf.sparse.SparseTensor` and use `tf.sparse.to_dense` instead.\n",
            "WARNING:tensorflow:From /usr/local/lib/python3.7/dist-packages/tensorflow/python/util/dispatch.py:206: sample_distorted_bounding_box (from tensorflow.python.ops.image_ops_impl) is deprecated and will be removed in a future version.\n",
            "Instructions for updating:\n",
            "`seed2` arg is deprecated.Use sample_distorted_bounding_box_v2 instead.\n",
            "W0704 20:17:25.503095 140715144812416 deprecation.py:336] From /usr/local/lib/python3.7/dist-packages/tensorflow/python/util/dispatch.py:206: sample_distorted_bounding_box (from tensorflow.python.ops.image_ops_impl) is deprecated and will be removed in a future version.\n",
            "Instructions for updating:\n",
            "`seed2` arg is deprecated.Use sample_distorted_bounding_box_v2 instead.\n",
            "WARNING:tensorflow:From /usr/local/lib/python3.7/dist-packages/tensorflow/python/autograph/impl/api.py:464: to_float (from tensorflow.python.ops.math_ops) is deprecated and will be removed in a future version.\n",
            "Instructions for updating:\n",
            "Use `tf.cast` instead.\n",
            "W0704 20:17:27.066775 140715144812416 deprecation.py:336] From /usr/local/lib/python3.7/dist-packages/tensorflow/python/autograph/impl/api.py:464: to_float (from tensorflow.python.ops.math_ops) is deprecated and will be removed in a future version.\n",
            "Instructions for updating:\n",
            "Use `tf.cast` instead.\n",
            "2021-07-04 20:17:29.232660: I tensorflow/compiler/mlir/mlir_graph_optimization_pass.cc:176] None of the MLIR Optimization Passes are enabled (registered 2)\n",
            "2021-07-04 20:17:29.238993: I tensorflow/core/platform/profile_utils/cpu_utils.cc:114] CPU Frequency: 2199995000 Hz\n",
            "^C\n"
          ],
          "name": "stdout"
        }
      ]
    },
    {
      "cell_type": "markdown",
      "metadata": {
        "id": "4_YRZu7npfDH"
      },
      "source": [
        "# 7. Evaluate the Model"
      ]
    },
    {
      "cell_type": "code",
      "metadata": {
        "id": "80L7-fdPpfDH"
      },
      "source": [
        "command = \"python {} --model_dir={} --pipeline_config_path={} --checkpoint_dir={}\".format(TRAINING_SCRIPT, paths['CHECKPOINT_PATH'],files['PIPELINE_CONFIG'], paths['CHECKPOINT_PATH'])"
      ],
      "execution_count": null,
      "outputs": []
    },
    {
      "cell_type": "code",
      "metadata": {
        "colab": {
          "base_uri": "https://localhost:8080/"
        },
        "id": "lYsgEPx9pfDH",
        "outputId": "8632d48b-91d2-45d9-bcb8-c1b172bf6eed"
      },
      "source": [
        "print(command)"
      ],
      "execution_count": null,
      "outputs": [
        {
          "output_type": "stream",
          "text": [
            "python Tensorflow\\models\\research\\object_detection\\model_main_tf2.py --model_dir=Tensorflow\\workspace\\models\\my_ssd_mobnet --pipeline_config_path=Tensorflow\\workspace\\models\\my_ssd_mobnet\\pipeline.config --checkpoint_dir=Tensorflow\\workspace\\models\\my_ssd_mobnet\n"
          ],
          "name": "stdout"
        }
      ]
    },
    {
      "cell_type": "code",
      "metadata": {
        "id": "lqTV2jGBpfDH",
        "outputId": "e303891a-0e11-4c14-8623-2464f7f7addb"
      },
      "source": [
        "!{command}"
      ],
      "execution_count": null,
      "outputs": [
        {
          "output_type": "stream",
          "text": [
            "^C\n"
          ],
          "name": "stdout"
        }
      ]
    },
    {
      "cell_type": "markdown",
      "metadata": {
        "id": "orvRk02UpfDI"
      },
      "source": [
        "# 8. Load Train Model From Checkpoint"
      ]
    },
    {
      "cell_type": "code",
      "metadata": {
        "id": "8TYk4_oIpfDI"
      },
      "source": [
        "import os\n",
        "import tensorflow as tf\n",
        "from object_detection.utils import label_map_util\n",
        "from object_detection.utils import visualization_utils as viz_utils\n",
        "from object_detection.builders import model_builder\n",
        "from object_detection.utils import config_util"
      ],
      "execution_count": 1,
      "outputs": []
    },
    {
      "cell_type": "code",
      "metadata": {
        "id": "tDnQg-cYpfDI"
      },
      "source": [
        "# Load pipeline config and build a detection model\n",
        "configs = config_util.get_configs_from_pipeline_file(files['PIPELINE_CONFIG'])\n",
        "detection_model = model_builder.build(model_config=configs['model'], is_training=False)\n",
        "\n",
        "# Restore checkpoint\n",
        "ckpt = tf.compat.v2.train.Checkpoint(model=detection_model)\n",
        "ckpt.restore(os.path.join(paths['CHECKPOINT_PATH'], 'ckpt-3')).expect_partial()\n",
        "\n",
        "@tf.function\n",
        "def detect_fn(image):\n",
        "    image, shapes = detection_model.preprocess(image)\n",
        "    prediction_dict = detection_model.predict(image, shapes)\n",
        "    detections = detection_model.postprocess(prediction_dict, shapes)\n",
        "    return detections"
      ],
      "execution_count": null,
      "outputs": []
    },
    {
      "cell_type": "markdown",
      "metadata": {
        "id": "0EmsmbBZpfDI"
      },
      "source": [
        "# 9. Detect from an Image"
      ]
    },
    {
      "cell_type": "code",
      "metadata": {
        "id": "Y_MKiuZ4pfDI"
      },
      "source": [
        "import cv2 \n",
        "import numpy as np\n",
        "from matplotlib import pyplot as plt\n",
        "%matplotlib inline"
      ],
      "execution_count": 6,
      "outputs": []
    },
    {
      "cell_type": "code",
      "metadata": {
        "id": "cBDbIhNapfDI"
      },
      "source": [
        "category_index = label_map_util.create_category_index_from_labelmap(files['LABELMAP'])"
      ],
      "execution_count": null,
      "outputs": []
    },
    {
      "cell_type": "code",
      "metadata": {
        "id": "Lx3crOhOzITB"
      },
      "source": [
        "IMAGE_PATH = os.path.join(paths['IMAGE_PATH'], 'test', '/content/Tensorflow/workspace/images/train/train/apple_1.jpg')"
      ],
      "execution_count": null,
      "outputs": []
    },
    {
      "cell_type": "code",
      "metadata": {
        "id": "Tpzn1SMry1yK"
      },
      "source": [
        "img = cv2.imread(IMAGE_PATH)\n",
        "image_np = np.array(img)\n",
        "\n",
        "input_tensor = tf.convert_to_tensor(np.expand_dims(image_np, 0), dtype=tf.float32)\n",
        "detections = detect_fn(input_tensor)\n",
        "\n",
        "num_detections = int(detections.pop('num_detections'))\n",
        "detections = {key: value[0, :num_detections].numpy()\n",
        "              for key, value in detections.items()}\n",
        "detections['num_detections'] = num_detections\n",
        "\n",
        "# detection_classes should be ints.\n",
        "detections['detection_classes'] = detections['detection_classes'].astype(np.int64)\n",
        "\n",
        "label_id_offset = 1\n",
        "image_np_with_detections = image_np.copy()\n",
        "\n",
        "viz_utils.visualize_boxes_and_labels_on_image_array(\n",
        "            image_np_with_detections,\n",
        "            detections['detection_boxes'],\n",
        "            detections['detection_classes']+label_id_offset,\n",
        "            detections['detection_scores'],\n",
        "            category_index,\n",
        "            use_normalized_coordinates=True,\n",
        "            max_boxes_to_draw=5,\n",
        "            min_score_thresh=.8,\n",
        "            agnostic_mode=False)\n",
        "\n",
        "plt.imshow(cv2.cvtColor(image_np_with_detections, cv2.COLOR_BGR2RGB))\n",
        "plt.show()"
      ],
      "execution_count": null,
      "outputs": []
    },
    {
      "cell_type": "markdown",
      "metadata": {
        "id": "IsNAaYAo0WVL"
      },
      "source": [
        "# 10. detetcting face through web cam will , can be run on jupyter , collab has dependency"
      ]
    },
    {
      "cell_type": "code",
      "metadata": {
        "id": "Zf4NaRAgEwrM"
      },
      "source": [
        "!pip uninstall opencv-python-headless -y"
      ],
      "execution_count": null,
      "outputs": []
    },
    {
      "cell_type": "code",
      "metadata": {
        "id": "o_grs6OGpfDJ"
      },
      "source": [
        "cap = cv2.VideoCapture(0)\n",
        "width = int(cap.get(cv2.CAP_PROP_FRAME_WIDTH))\n",
        "height = int(cap.get(cv2.CAP_PROP_FRAME_HEIGHT))\n",
        "\n",
        "while cap.isOpened(): \n",
        "    ret, frame = cap.read()\n",
        "    image_np = np.array(frame)\n",
        "    \n",
        "    input_tensor = tf.convert_to_tensor(np.expand_dims(image_np, 0), dtype=tf.float32)\n",
        "    detections = detect_fn(input_tensor)\n",
        "    \n",
        "    num_detections = int(detections.pop('num_detections'))\n",
        "    detections = {key: value[0, :num_detections].numpy()\n",
        "                  for key, value in detections.items()}\n",
        "    detections['num_detections'] = num_detections\n",
        "\n",
        "    # detection_classes should be ints.\n",
        "    detections['detection_classes'] = detections['detection_classes'].astype(np.int64)\n",
        "\n",
        "    label_id_offset = 1\n",
        "    image_np_with_detections = image_np.copy()\n",
        "\n",
        "    viz_utils.visualize_boxes_and_labels_on_image_array(\n",
        "                image_np_with_detections,\n",
        "                detections['detection_boxes'],\n",
        "                detections['detection_classes']+label_id_offset,\n",
        "                detections['detection_scores'],\n",
        "                category_index,\n",
        "                use_normalized_coordinates=True,\n",
        "                max_boxes_to_draw=5,\n",
        "                min_score_thresh=.8,\n",
        "                agnostic_mode=False)\n",
        "\n",
        "    cv2.imshow('object detection',  cv2.resize(image_np_with_detections, (800, 600)))\n",
        "    \n",
        "    if cv2.waitKey(10) & 0xFF == ord('q'):\n",
        "        cap.release()\n",
        "        cv2.destroyAllWindows()\n",
        "        break"
      ],
      "execution_count": null,
      "outputs": []
    },
    {
      "cell_type": "markdown",
      "metadata": {
        "id": "wTPmdqaXpfDK"
      },
      "source": [
        "# 11. Conversion to TFJS"
      ]
    },
    {
      "cell_type": "code",
      "metadata": {
        "id": "gZ6UzY_fpfDK",
        "scrolled": true
      },
      "source": [
        "!pip install tensorflowjs"
      ],
      "execution_count": null,
      "outputs": []
    },
    {
      "cell_type": "code",
      "metadata": {
        "id": "0oxbVynHpfDK"
      },
      "source": [
        "command = \"tensorflowjs_converter --input_format=tf_saved_model --output_node_names='detection_boxes,detection_classes,detection_features,detection_multiclass_scores,detection_scores,num_detections,raw_detection_boxes,raw_detection_scores' --output_format=tfjs_graph_model --signature_name=serving_default {} {}\".format(os.path.join(paths['OUTPUT_PATH'], 'saved_model'), paths['TFJS_PATH'])"
      ],
      "execution_count": null,
      "outputs": []
    },
    {
      "cell_type": "code",
      "metadata": {
        "id": "DB2AGNmJpfDK"
      },
      "source": [
        "print(command)"
      ],
      "execution_count": null,
      "outputs": []
    },
    {
      "cell_type": "code",
      "metadata": {
        "id": "K7rfT4-hpfDK"
      },
      "source": [
        "!{command}"
      ],
      "execution_count": null,
      "outputs": []
    },
    {
      "cell_type": "code",
      "metadata": {
        "id": "o8_hm-itpfDK"
      },
      "source": [
        "# Test Code: https://github.com/nicknochnack/RealTimeSignLanguageDetectionwithTFJS"
      ],
      "execution_count": null,
      "outputs": []
    },
    {
      "cell_type": "code",
      "metadata": {
        "id": "XviMtewLpfDK"
      },
      "source": [
        "TFLITE_SCRIPT = os.path.join(paths['APIMODEL_PATH'], 'research', 'object_detection', 'export_tflite_graph_tf2.py ')"
      ],
      "execution_count": null,
      "outputs": []
    },
    {
      "cell_type": "code",
      "metadata": {
        "id": "us86cjC4pfDL"
      },
      "source": [
        "command = \"python {} --pipeline_config_path={} --trained_checkpoint_dir={} --output_directory={}\".format(TFLITE_SCRIPT ,files['PIPELINE_CONFIG'], paths['CHECKPOINT_PATH'], paths['TFLITE_PATH'])"
      ],
      "execution_count": null,
      "outputs": []
    },
    {
      "cell_type": "code",
      "metadata": {
        "id": "n1r5YO3rpfDL"
      },
      "source": [
        "print(command)"
      ],
      "execution_count": null,
      "outputs": []
    },
    {
      "cell_type": "code",
      "metadata": {
        "id": "I-xWpHN8pfDL"
      },
      "source": [
        "!{command}"
      ],
      "execution_count": null,
      "outputs": []
    },
    {
      "cell_type": "code",
      "metadata": {
        "id": "iJfYMbN6pfDL"
      },
      "source": [
        "FROZEN_TFLITE_PATH = os.path.join(paths['TFLITE_PATH'], 'saved_model')\n",
        "TFLITE_MODEL = os.path.join(paths['TFLITE_PATH'], 'saved_model', 'detect.tflite')"
      ],
      "execution_count": null,
      "outputs": []
    },
    {
      "cell_type": "code",
      "metadata": {
        "id": "3Qcl8fZCEwrP"
      },
      "source": [
        "command = \"tflite_convert \\\n",
        "--saved_model_dir={} \\\n",
        "--output_file={} \\\n",
        "--input_shapes=1,300,300,3 \\\n",
        "--input_arrays=normalized_input_image_tensor \\\n",
        "--output_arrays='TFLite_Detection_PostProcess','TFLite_Detection_PostProcess:1','TFLite_Detection_PostProcess:2','TFLite_Detection_PostProcess:3' \\\n",
        "--inference_type=FLOAT \\\n",
        "--allow_custom_ops\".format(FROZEN_TFLITE_PATH, TFLITE_MODEL, )"
      ],
      "execution_count": null,
      "outputs": []
    },
    {
      "cell_type": "code",
      "metadata": {
        "id": "E8GwUeoFpfDL"
      },
      "source": [
        "print(command)"
      ],
      "execution_count": null,
      "outputs": []
    },
    {
      "cell_type": "code",
      "metadata": {
        "id": "Nbd7gqHMpfDL"
      },
      "source": [
        "!{command}"
      ],
      "execution_count": null,
      "outputs": []
    },
    {
      "cell_type": "markdown",
      "metadata": {
        "id": "5NQqZRdA21Uc"
      },
      "source": [
        "# 13. Zip and Export Models "
      ]
    },
    {
      "cell_type": "code",
      "metadata": {
        "id": "tTVTGCQp2ZJJ"
      },
      "source": [
        "!tar -czf models.tar.gz {paths['CHECKPOINT_PATH']}"
      ],
      "execution_count": null,
      "outputs": []
    },
    {
      "cell_type": "code",
      "metadata": {
        "id": "whShhB0x3PYJ"
      },
      "source": [
        "from google.colab import drive\n",
        "drive.mount('/content/drive')"
      ],
      "execution_count": null,
      "outputs": []
    }
  ]
}